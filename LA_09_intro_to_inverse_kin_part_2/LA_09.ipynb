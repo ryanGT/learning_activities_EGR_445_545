{
 "cells": [
  {
   "cell_type": "markdown",
   "metadata": {},
   "source": [
    "# Learning Activity 9"
   ]
  },
  {
   "cell_type": "code",
   "execution_count": 1,
   "metadata": {},
   "outputs": [],
   "source": [
    "%matplotlib inline\n",
    "import matplotlib.pyplot as plt\n",
    "import numpy as np\n",
    "from numpy import sin, cos, tan, pi\n",
    "import robotics\n",
    "from robotics import Rz, Ry, Rz, sind, cosd, DH\n",
    "rtd = 180/pi\n",
    "dtr = pi/180"
   ]
  },
  {
   "cell_type": "code",
   "execution_count": 2,
   "metadata": {},
   "outputs": [],
   "source": [
    "def myarraytest(in1, in2):\n",
    "    mydiff = np.array(in1) - np.array(in2)\n",
    "    mymax = np.max(np.abs(mydiff))\n",
    "    return mymax < 1e-6"
   ]
  },
  {
   "cell_type": "markdown",
   "metadata": {},
   "source": [
    "## Problem 1"
   ]
  },
  {
   "cell_type": "markdown",
   "metadata": {},
   "source": [
    "<img src=\"https://faculty.gvsu.edu/kraussry/445_images/learning_activities/inverse_kin_sketches/inv_kin_simple_robot_1.png\" width=400px>"
   ]
  },
  {
   "cell_type": "markdown",
   "metadata": {},
   "source": [
    "### DOF and Problem Statement\n",
    "\n",
    "- how many degrees of freedom does this robot have?\n",
    "- what is required for a valid problem statement?"
   ]
  },
  {
   "cell_type": "code",
   "execution_count": 4,
   "metadata": {},
   "outputs": [],
   "source": [
    "A = 4\n",
    "B = 3\n",
    "C = 2"
   ]
  },
  {
   "cell_type": "markdown",
   "metadata": {},
   "source": [
    "Solve the inverse kinematics to place the tip at\n",
    "\n",
    "$$^0P_{tip} = \\begin{bmatrix} 2.328 \\\\ 0.7252 \\\\ 5.92 \\\\ 1 \\end{bmatrix}$$"
   ]
  },
  {
   "cell_type": "code",
   "execution_count": 5,
   "metadata": {},
   "outputs": [],
   "source": [
    "P_tip_0 = np.array([2.32834326, 0.72519817, 5.91961058, 1])"
   ]
  },
  {
   "cell_type": "markdown",
   "metadata": {},
   "source": [
    "**Key Question:** \n",
    "\n",
    "- is this point in the reachable workspace?"
   ]
  },
  {
   "cell_type": "markdown",
   "metadata": {},
   "source": [
    "**Note:** be sure to use the variables `th1_p1` and `th2_p1` for your answers to problem 1."
   ]
  },
  {
   "cell_type": "markdown",
   "metadata": {},
   "source": [
    "### Recommended Procedure\n",
    "\n",
    "- draw a top view in frame 0\n",
    "    - use the top view to find $\\theta_1$\n",
    "- calculate $^1P_{tip}$ by using $\\theta_1$ to find $^0_1\\mathbf{T}$\n",
    "- draw a side view in frame 1\n",
    "- find $\\theta_2$ based on the side view"
   ]
  },
  {
   "cell_type": "markdown",
   "metadata": {},
   "source": [
    "## Test"
   ]
  },
  {
   "cell_type": "code",
   "execution_count": 27,
   "metadata": {
    "deletable": false,
    "editable": false,
    "nbgrader": {
     "cell_type": "code",
     "checksum": "4dbb3d340cfac095a62619e789f020e6",
     "grade": true,
     "grade_id": "cell-ab7f9375f42d3eab",
     "locked": true,
     "points": 20,
     "schema_version": 3,
     "solution": false,
     "task": false
    }
   },
   "outputs": [
    {
     "data": {
      "text/plain": [
       "array([2.32834326, 0.72519817, 5.91961058, 1.        ])"
      ]
     },
     "execution_count": 27,
     "metadata": {},
     "output_type": "execute_result"
    }
   ],
   "source": [
    "P_tip_1 = np.array([B+C*cosd(th2_p1),0,C*sind(th2_p1),1])\n",
    "T01 = robotics.DH(0,0,th1_p1,A)\n",
    "P_tip_0_test = np.dot(T01,P_tip_1)\n",
    "assert myarraytest(P_tip_0,P_tip_0_test)\n",
    "P_tip_0_test"
   ]
  },
  {
   "cell_type": "markdown",
   "metadata": {},
   "source": [
    "## Problem 2"
   ]
  },
  {
   "cell_type": "markdown",
   "metadata": {},
   "source": [
    "<img src=\"https://faculty.gvsu.edu/kraussry/445_images/learning_activities/inverse_kin_sketches/inv_kin_2.jpeg\" width=400px>"
   ]
  },
  {
   "cell_type": "code",
   "execution_count": null,
   "metadata": {},
   "outputs": [],
   "source": [
    "A2 = 8\n",
    "B2 = 2\n",
    "C2 = 5\n",
    "D2 = 4"
   ]
  },
  {
   "cell_type": "markdown",
   "metadata": {},
   "source": [
    "### Problem Statement"
   ]
  },
  {
   "cell_type": "markdown",
   "metadata": {},
   "source": [
    "Solve the inverse kinematics to place the tip at\n",
    "\n",
    "$$^0P_{tip} = \\begin{bmatrix} 8.269 \\\\ -2.371 \\\\ 13.42\\end{bmatrix}$$"
   ]
  },
  {
   "cell_type": "code",
   "execution_count": 28,
   "metadata": {},
   "outputs": [],
   "source": [
    "P_tip_0_p2_original = np.array([ 8.26927707, -2.37117704, 13.41775726,  1.        ])"
   ]
  },
  {
   "cell_type": "markdown",
   "metadata": {},
   "source": [
    "**Note:** use the variables `th1_p2`, `th1_p2`, and `th1_p2` for your answer to problem 2."
   ]
  },
  {
   "cell_type": "markdown",
   "metadata": {},
   "source": [
    "### Recommended Procedure\n",
    "\n",
    "- draw a top view in frame 0\n",
    "    - use the top view to find $\\theta_1$\n",
    "- calculate $^1P_{tip}$ by using $\\theta_1$ to find $^0_1\\mathbf{T}$\n",
    "- draw a side view in frame 1\n",
    "- find $\\theta_2$ and $\\theta_3$ based on two-link inverse kinematics based on the side view"
   ]
  },
  {
   "cell_type": "markdown",
   "metadata": {},
   "source": [
    "## Test"
   ]
  },
  {
   "cell_type": "code",
   "execution_count": null,
   "metadata": {
    "deletable": false,
    "editable": false,
    "nbgrader": {
     "cell_type": "code",
     "checksum": "c8e9707cebd622ccfe68c4984033cff1",
     "grade": true,
     "grade_id": "cell-52d485c77e5d46f4",
     "locked": true,
     "points": 30,
     "schema_version": 3,
     "solution": false,
     "task": false
    }
   },
   "outputs": [],
   "source": [
    "x1 = B2 + C2*cosd(th2_p2) + D2*cosd(th2_p2+th3_p2)\n",
    "z1 = C2*sind(th2_p2) + D2*sind(th2_p2+th3_p2)\n",
    "P_tip_1_p2 = np.array([x1,0,z1,1])\n",
    "T01_p2 = robotics.DH(0,0,th1_p2,A2)\n",
    "P_tip_0_p2 = np.dot(T01_p2,P_tip_1_p2)\n",
    "P_tip_0_p2"
   ]
  },
  {
   "cell_type": "code",
   "execution_count": null,
   "metadata": {},
   "outputs": [],
   "source": []
  }
 ],
 "metadata": {
  "kernelspec": {
   "display_name": "Python 3 (ipykernel)",
   "language": "python",
   "name": "python3"
  },
  "language_info": {
   "codemirror_mode": {
    "name": "ipython",
    "version": 3
   },
   "file_extension": ".py",
   "mimetype": "text/x-python",
   "name": "python",
   "nbconvert_exporter": "python",
   "pygments_lexer": "ipython3",
   "version": "3.13.3"
  }
 },
 "nbformat": 4,
 "nbformat_minor": 4
}
