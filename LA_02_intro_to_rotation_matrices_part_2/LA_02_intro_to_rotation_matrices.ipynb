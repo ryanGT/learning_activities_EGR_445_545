{
 "cells": [
  {
   "cell_type": "markdown",
   "id": "electronic-rabbit",
   "metadata": {},
   "source": [
    "# Learning Activity 2: Intro to Rotation Matrices - Part 2"
   ]
  },
  {
   "cell_type": "markdown",
   "id": "incredible-radiation",
   "metadata": {},
   "source": [
    "## Problem Statement\n",
    "\n",
    "For each sketch below, find the corridates for point $P$ in both frames, $^AP$ and $^BP$.  For each problem, find the answers two ways:\n",
    "\n",
    "- using trigonometry/inspection\n",
    "- using a rotation matrix and matrix multiplication\n",
    "\n",
    "**Deliverables:**\n",
    "\n",
    "- Verify that you get the same answer both ways.\n",
    "- draw a sketch that supports your answer"
   ]
  },
  {
   "cell_type": "code",
   "execution_count": 2,
   "id": "fatal-proportion",
   "metadata": {},
   "outputs": [],
   "source": [
    "%matplotlib inline\n",
    "import matplotlib.pyplot as plt\n",
    "import numpy as np\n",
    "from numpy import sin, cos, tan, pi\n",
    "rtd = 180/pi\n",
    "dtr = pi/180\n",
    "import robotics\n",
    "from robotics import Rx, Ry, Rz, sind, cosd, DH"
   ]
  },
  {
   "cell_type": "code",
   "execution_count": 3,
   "id": "bc533b3b-8711-4f16-93a5-b57d9a6d0437",
   "metadata": {},
   "outputs": [],
   "source": [
    "def myarraytest(in1, in2):\n",
    "    mydiff = np.array(in1) - np.array(in2)\n",
    "    mymax = np.max(np.abs(mydiff))\n",
    "    if mymax < 1e-6:\n",
    "        print(\"success\")\n",
    "    else:\n",
    "        print(\"something went wrong\")\n",
    "        print(\"mymax = %s\" % mymax)\n",
    "        print(\"mydiff = %s\" % mydiff)"
   ]
  },
  {
   "cell_type": "markdown",
   "id": "b33bcf63-e0f8-458d-a555-bc788b3a05b5",
   "metadata": {},
   "source": [
    "## Problem 1"
   ]
  },
  {
   "cell_type": "markdown",
   "id": "e6912f2e-dcb1-4584-8701-06ad2601a658",
   "metadata": {},
   "source": [
    "<img src=\"https://faculty.gvsu.edu/kraussry/445_images/lecture_02/LA_01_Q_2.png\" width=500px>\n"
   ]
  },
  {
   "cell_type": "markdown",
   "id": "5c8142de-e621-423b-acb4-78bc347fb171",
   "metadata": {},
   "source": [
    "### Problem 1 Test"
   ]
  },
  {
   "cell_type": "code",
   "execution_count": 12,
   "id": "1736a22e-d51f-4714-b85c-cc6d9b96fe3f",
   "metadata": {},
   "outputs": [
    {
     "name": "stdout",
     "output_type": "stream",
     "text": [
      "success\n"
     ]
    }
   ],
   "source": [
    "myarraytest(P_A_1, np.array([4.33012702, 2.5       , 0.        ]))"
   ]
  },
  {
   "cell_type": "markdown",
   "id": "cddc79ae-d1ee-4a22-99a4-c7dddcada3ff",
   "metadata": {},
   "source": [
    "## Problem 2"
   ]
  },
  {
   "cell_type": "markdown",
   "id": "eff6e6d0-2b03-44e6-a4cb-793a5cd166a0",
   "metadata": {},
   "source": [
    "<img src=\"https://faculty.gvsu.edu/kraussry/445_images/lecture_02/LA_01_Q_1.png\" width=500px>\n"
   ]
  },
  {
   "cell_type": "markdown",
   "id": "6d0186a8-29c9-47f2-816c-8b7650032730",
   "metadata": {},
   "source": [
    "### Problem 2 Test"
   ]
  },
  {
   "cell_type": "code",
   "execution_count": 16,
   "id": "51fd1c7c-9fb9-411f-824c-37601d817218",
   "metadata": {},
   "outputs": [
    {
     "name": "stdout",
     "output_type": "stream",
     "text": [
      "success\n"
     ]
    }
   ],
   "source": [
    "myarraytest(P_B_2, np.array([4.33012702, -2.5       , 0.        ]))"
   ]
  },
  {
   "cell_type": "markdown",
   "id": "10eb09b4-6d18-4e99-bb30-46fcfc5e4852",
   "metadata": {},
   "source": [
    "## Problem 3"
   ]
  },
  {
   "cell_type": "markdown",
   "id": "c4165da5-8041-46cd-984e-5b68fe56520b",
   "metadata": {},
   "source": [
    "<img src=\"https://faculty.gvsu.edu/kraussry/445_images/lecture_02/LA_01_Q_3.png\" width=500px>\n"
   ]
  },
  {
   "cell_type": "markdown",
   "id": "1d513d6d-a4b9-417c-81ea-8fd392322290",
   "metadata": {},
   "source": [
    "### Problem 3 Test"
   ]
  },
  {
   "cell_type": "code",
   "execution_count": 20,
   "id": "c1f2d26e-76bb-42b3-aa35-35cc563afa61",
   "metadata": {},
   "outputs": [
    {
     "name": "stdout",
     "output_type": "stream",
     "text": [
      "success\n"
     ]
    }
   ],
   "source": [
    "myarraytest(P_A_3, np.array([0.59807621, 4.96410162, 0.        ]))"
   ]
  },
  {
   "cell_type": "markdown",
   "id": "0d9a7bc7-3305-4ab4-a05c-12f065ea1444",
   "metadata": {},
   "source": [
    "## Problem 4"
   ]
  },
  {
   "cell_type": "markdown",
   "id": "1d0bd69f-0475-44ce-8b80-9219f736f260",
   "metadata": {},
   "source": [
    "<img src=\"https://faculty.gvsu.edu/kraussry/445_images/lecture_02/LA_01_Q_4.png\" width=500px>\n"
   ]
  },
  {
   "cell_type": "markdown",
   "id": "e3956b9a-1415-40d6-be53-895a72593d31",
   "metadata": {},
   "source": [
    "### Problem 4 Test"
   ]
  },
  {
   "cell_type": "code",
   "execution_count": 22,
   "id": "2f73b71f-eda5-4c51-9a62-4885dfe00386",
   "metadata": {},
   "outputs": [
    {
     "name": "stdout",
     "output_type": "stream",
     "text": [
      "success\n"
     ]
    }
   ],
   "source": [
    "myarraytest(P_B_4, np.array([4.59807621, 1.96410162, 0.        ]))"
   ]
  }
 ],
 "metadata": {
  "kernelspec": {
   "display_name": "Python 3 (ipykernel)",
   "language": "python",
   "name": "python3"
  },
  "language_info": {
   "codemirror_mode": {
    "name": "ipython",
    "version": 3
   },
   "file_extension": ".py",
   "mimetype": "text/x-python",
   "name": "python",
   "nbconvert_exporter": "python",
   "pygments_lexer": "ipython3",
   "version": "3.13.3"
  }
 },
 "nbformat": 4,
 "nbformat_minor": 5
}
