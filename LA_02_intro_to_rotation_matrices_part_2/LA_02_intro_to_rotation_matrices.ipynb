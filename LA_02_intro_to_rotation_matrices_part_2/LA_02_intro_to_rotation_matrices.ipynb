{
 "cells": [
  {
   "cell_type": "markdown",
   "id": "electronic-rabbit",
   "metadata": {},
   "source": [
    "# Learning Activity 2: Intro to Rotation Matrices - Part 2"
   ]
  },
  {
   "cell_type": "markdown",
   "id": "incredible-radiation",
   "metadata": {},
   "source": [
    "## Problem Statement\n",
    "\n",
    "For each sketch below, find the corridates for point $P$ in both frames, $^AP$ and $^BP$.  For each problem, find the answers two ways:\n",
    "\n",
    "- using trigonometry/inspection\n",
    "- using a rotation matrix and matrix multiplication\n",
    "\n",
    "**Deliverables:**\n",
    "\n",
    "- Verify that you get the same answer both ways.\n",
    "- draw a sketch that supports your answer"
   ]
  },
  {
   "cell_type": "markdown",
   "id": "continental-discipline",
   "metadata": {},
   "source": [
    "## Typical Imports\n",
    "\n",
    "If you have numpy, scipy, jupyter, etc. correctly installed, this should work:"
   ]
  },
  {
   "cell_type": "code",
   "execution_count": 2,
   "id": "fatal-proportion",
   "metadata": {},
   "outputs": [],
   "source": [
    "%matplotlib inline\n",
    "import matplotlib.pyplot as plt\n",
    "import numpy as np\n",
    "from numpy import sin, cos, tan, pi\n",
    "rtd = 180/pi\n",
    "dtr = pi/180"
   ]
  },
  {
   "cell_type": "markdown",
   "id": "b33bcf63-e0f8-458d-a555-bc788b3a05b5",
   "metadata": {},
   "source": [
    "### Problem 1"
   ]
  },
  {
   "cell_type": "markdown",
   "id": "d1ed0577-15f0-4996-a982-253dbe715b11",
   "metadata": {},
   "source": [
    "<img src=\"https://faculty.gvsu.edu/kraussry/445_images/lecture_02/LA_01_Q_1.png\" width=500px>\n"
   ]
  },
  {
   "cell_type": "markdown",
   "id": "cddc79ae-d1ee-4a22-99a4-c7dddcada3ff",
   "metadata": {},
   "source": [
    "### Problem 2"
   ]
  },
  {
   "cell_type": "markdown",
   "id": "242e9241-648a-438c-944a-1a1f6ee10885",
   "metadata": {},
   "source": [
    "<img src=\"https://faculty.gvsu.edu/kraussry/445_images/lecture_02/LA_01_Q_2.png\" width=500px>\n"
   ]
  },
  {
   "cell_type": "markdown",
   "id": "10eb09b4-6d18-4e99-bb30-46fcfc5e4852",
   "metadata": {},
   "source": [
    "### Problem 3"
   ]
  },
  {
   "cell_type": "markdown",
   "id": "c4165da5-8041-46cd-984e-5b68fe56520b",
   "metadata": {},
   "source": [
    "<img src=\"https://faculty.gvsu.edu/kraussry/445_images/lecture_02/LA_01_Q_3.png\" width=500px>\n"
   ]
  },
  {
   "cell_type": "markdown",
   "id": "0d9a7bc7-3305-4ab4-a05c-12f065ea1444",
   "metadata": {},
   "source": [
    "### Problem 4"
   ]
  },
  {
   "cell_type": "markdown",
   "id": "1d0bd69f-0475-44ce-8b80-9219f736f260",
   "metadata": {},
   "source": [
    "<img src=\"https://faculty.gvsu.edu/kraussry/445_images/lecture_02/LA_01_Q_4.png\" width=500px>\n"
   ]
  },
  {
   "cell_type": "markdown",
   "id": "expressed-conspiracy",
   "metadata": {},
   "source": [
    "### Robotics import\n",
    "\n",
    "If you have successfully installed the robotics module, the following imports should work:"
   ]
  },
  {
   "cell_type": "code",
   "execution_count": 2,
   "id": "standing-chance",
   "metadata": {},
   "outputs": [],
   "source": [
    "import robotics\n",
    "from robotics import Rx, Ry, Rz, sind, cosd, DH"
   ]
  },
  {
   "cell_type": "code",
   "execution_count": 4,
   "id": "outside-recruitment",
   "metadata": {},
   "outputs": [
    {
     "data": {
      "text/plain": [
       "array([[ 0.8660254, -0.5      ,  0.       ],\n",
       "       [ 0.5      ,  0.8660254,  0.       ],\n",
       "       [ 0.       ,  0.       ,  1.       ]])"
      ]
     },
     "execution_count": 4,
     "metadata": {},
     "output_type": "execute_result"
    }
   ],
   "source": [
    "R = Rz(30)\n",
    "R"
   ]
  },
  {
   "cell_type": "code",
   "execution_count": null,
   "id": "approved-enterprise",
   "metadata": {},
   "outputs": [],
   "source": []
  }
 ],
 "metadata": {
  "kernelspec": {
   "display_name": "Python 3 (ipykernel)",
   "language": "python",
   "name": "python3"
  },
  "language_info": {
   "codemirror_mode": {
    "name": "ipython",
    "version": 3
   },
   "file_extension": ".py",
   "mimetype": "text/x-python",
   "name": "python",
   "nbconvert_exporter": "python",
   "pygments_lexer": "ipython3",
   "version": "3.13.3"
  }
 },
 "nbformat": 4,
 "nbformat_minor": 5
}
