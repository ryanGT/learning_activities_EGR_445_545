{
 "cells": [
  {
   "cell_type": "markdown",
   "id": "7f7e9ba5-750d-4e07-ad30-c28af6f02a26",
   "metadata": {},
   "source": [
    "# Three Link Planar Jacobian in Frame 1"
   ]
  },
  {
   "cell_type": "markdown",
   "id": "216de908-1765-4ae5-8a34-2810111f0c99",
   "metadata": {},
   "source": [
    "<img src=\"https://faculty.gvsu.edu/kraussry/445_images/learning_activities/jacobians/three_link_planar.jpeg\" width=400px>"
   ]
  },
  {
   "cell_type": "markdown",
   "id": "9259b4d7-bfdf-46a4-b04a-71dedbaeb905",
   "metadata": {},
   "source": [
    "**Claim:** It is difficult to visualize what the singularity condition means for this robot if we look at the Jacobian in frame 3."
   ]
  },
  {
   "cell_type": "markdown",
   "id": "a8a3f431-636c-463c-bd69-c20cd340f00f",
   "metadata": {},
   "source": [
    "### Problem Statement - Part 1\n",
    "\n",
    "- Find the singularity conditions for this robot based on the Jacobian in frame 3\n",
    "- substitute the singularity condition into the frame 3 Jacobian and see what you can learn"
   ]
  },
  {
   "cell_type": "markdown",
   "id": "41590199-8e82-4b1d-912b-7fc707ea8787",
   "metadata": {},
   "source": [
    "**Note:** The problem starts below the typical imports."
   ]
  },
  {
   "cell_type": "markdown",
   "id": "3319908b-57b9-43df-9a26-ee594fffae2a",
   "metadata": {},
   "source": [
    "### Typical Imports"
   ]
  },
  {
   "cell_type": "code",
   "execution_count": 113,
   "id": "f372dd12-5909-42ef-bebf-68a098ee1866",
   "metadata": {},
   "outputs": [],
   "source": [
    "import sympy\n",
    "from sympy import Symbol, sin, cos, tan\n",
    "from sympy.interactive import printing\n",
    "printing.init_printing(use_latex=True)\n",
    "import robotics_sympy\n",
    "from robotics_sympy import DH"
   ]
  },
  {
   "cell_type": "code",
   "execution_count": 114,
   "id": "f342c6aa-ff6c-485b-99f9-507ebe01c8e3",
   "metadata": {},
   "outputs": [],
   "source": [
    "L1, L2, th1, th2 = sympy.symbols(['L_1','L_2','theta_1','theta_2'])"
   ]
  },
  {
   "cell_type": "code",
   "execution_count": 115,
   "id": "b6935b6b-5288-4669-b950-70a9f968cf5d",
   "metadata": {},
   "outputs": [
    {
     "data": {
      "image/png": "[encoded data removed]",
      "text/latex": [
       "$\\displaystyle \\theta_{1}$"
      ],
      "text/plain": [
       "θ₁"
      ]
     },
     "execution_count": 115,
     "metadata": {},
     "output_type": "execute_result"
    }
   ],
   "source": [
    "th1"
   ]
  },
  {
   "cell_type": "code",
   "execution_count": 116,
   "id": "6673a457-fa59-40af-93ff-67e1a1e4ca43",
   "metadata": {},
   "outputs": [],
   "source": [
    "th1dot, th2dot = sympy.symbols(['\\\\dot{\\\\theta_1}','\\\\dot{\\\\theta_2}'])"
   ]
  },
  {
   "cell_type": "code",
   "execution_count": 117,
   "id": "a2ebeb0f-4974-48ef-87ff-8e929302544d",
   "metadata": {},
   "outputs": [
    {
     "data": {
      "image/png": "[encoded data removed]",
      "text/latex": [
       "$\\displaystyle \\dot{\\theta_1}$"
      ],
      "text/plain": [
       "\\dot{\\theta_1}"
      ]
     },
     "execution_count": 117,
     "metadata": {},
     "output_type": "execute_result"
    }
   ],
   "source": [
    "th1dot"
   ]
  },
  {
   "cell_type": "code",
   "execution_count": 118,
   "id": "76d3e10e-04f5-485a-ba04-e6dda6e759dc",
   "metadata": {},
   "outputs": [],
   "source": [
    "p90 = sympy.pi/2\n",
    "n90 = -p90"
   ]
  },
  {
   "cell_type": "code",
   "execution_count": 119,
   "id": "85446ee8-7fb3-4ce3-9f58-4ec1565a682a",
   "metadata": {},
   "outputs": [
    {
     "data": {
      "image/png": "[encoded data removed]",
      "text/latex": [
       "$\\displaystyle 1$"
      ],
      "text/plain": [
       "1"
      ]
     },
     "execution_count": 119,
     "metadata": {},
     "output_type": "execute_result"
    }
   ],
   "source": [
    "sympy.sin(p90)"
   ]
  },
  {
   "cell_type": "code",
   "execution_count": 120,
   "id": "19e64388-0b6b-427e-bf4c-99a801903fd9",
   "metadata": {},
   "outputs": [
    {
     "data": {
      "image/png": "[encoded data removed]",
      "text/latex": [
       "$\\displaystyle -1$"
      ],
      "text/plain": [
       "-1"
      ]
     },
     "execution_count": 120,
     "metadata": {},
     "output_type": "execute_result"
    }
   ],
   "source": [
    "sympy.sin(n90)"
   ]
  },
  {
   "cell_type": "code",
   "execution_count": 121,
   "id": "8dbd9ba8-6cc1-4a5b-bfc5-95ed5598a34d",
   "metadata": {},
   "outputs": [],
   "source": [
    "alpha, a, th, d = sympy.symbols(['alpha','a','theta','d'])"
   ]
  },
  {
   "cell_type": "code",
   "execution_count": 122,
   "id": "ccc246fd-6cbd-4e80-a772-129ee020931d",
   "metadata": {},
   "outputs": [
    {
     "data": {
      "image/png": "[encoded data removed]",
      "text/latex": [
       "$\\displaystyle \\left[\\begin{matrix}\\cos{\\left(\\theta \\right)} & - \\sin{\\left(\\theta \\right)} & 0 & a\\\\\\sin{\\left(\\theta \\right)} \\cos{\\left(\\alpha \\right)} & \\cos{\\left(\\alpha \\right)} \\cos{\\left(\\theta \\right)} & - \\sin{\\left(\\alpha \\right)} & - d \\sin{\\left(\\alpha \\right)}\\\\\\sin{\\left(\\alpha \\right)} \\sin{\\left(\\theta \\right)} & \\sin{\\left(\\alpha \\right)} \\cos{\\left(\\theta \\right)} & \\cos{\\left(\\alpha \\right)} & d \\cos{\\left(\\alpha \\right)}\\\\0 & 0 & 0 & 1\\end{matrix}\\right]$"
      ],
      "text/plain": [
       "⎡   cos(θ)         -sin(θ)        0         a    ⎤\n",
       "⎢                                                ⎥\n",
       "⎢sin(θ)⋅cos(α)  cos(α)⋅cos(θ)  -sin(α)  -d⋅sin(α)⎥\n",
       "⎢                                                ⎥\n",
       "⎢sin(α)⋅sin(θ)  sin(α)⋅cos(θ)  cos(α)   d⋅cos(α) ⎥\n",
       "⎢                                                ⎥\n",
       "⎣      0              0           0         1    ⎦"
      ]
     },
     "execution_count": 122,
     "metadata": {},
     "output_type": "execute_result"
    }
   ],
   "source": [
    "robotics_sympy.DH(alpha, a, th, d)"
   ]
  },
  {
   "cell_type": "code",
   "execution_count": 123,
   "id": "b202ca96-0357-4d16-9a30-45ec80d6ca79",
   "metadata": {},
   "outputs": [],
   "source": [
    "def J_row(v, theta_dots):\n",
    "    row_list = []\n",
    "    for theta_dot in theta_dots:\n",
    "        #print(\"theta_dot = %s\" % theta_dot)\n",
    "        item = v.diff(theta_dot)\n",
    "        row_list.append(item)\n",
    "    return row_list"
   ]
  },
  {
   "cell_type": "code",
   "execution_count": 124,
   "id": "eb184e35-4ee9-4181-a620-5199f5c6a1a8",
   "metadata": {},
   "outputs": [],
   "source": [
    "def find_J(vtip, theta_dots):\n",
    "    J_list = []\n",
    "    for v in vtip:\n",
    "        cur_row = J_row(v,theta_dots)#<-- find the row of the Jacobian for vtip[0], vtip[1], ...\n",
    "        J_list.append(cur_row)\n",
    "    return sympy.Matrix(J_list)"
   ]
  },
  {
   "cell_type": "code",
   "execution_count": 125,
   "id": "8eebb10c-2ef5-4519-9afa-0b9a80cfa526",
   "metadata": {},
   "outputs": [],
   "source": [
    "def create_theta_dot_vect(thdot):\n",
    "    return sympy.Matrix([[0],[0],[thdot]])"
   ]
  },
  {
   "cell_type": "markdown",
   "id": "9a8eb2fc-a2bd-445c-9d35-cec99ab0b78a",
   "metadata": {},
   "source": [
    "## The Jacobian in Frame 3\n",
    "\n",
    "This is part of the answer to LA 12, feel free to use it to check your work."
   ]
  },
  {
   "cell_type": "code",
   "execution_count": 78,
   "id": "65ea3e7c-334e-4d12-aeba-79fd8173d645",
   "metadata": {},
   "outputs": [],
   "source": [
    "L_1 = Symbol('L_1')\n",
    "theta_2 = Symbol('theta_2')\n",
    "theta_3 = Symbol('theta_3')\n",
    "L_2 = Symbol('L_2')\n",
    "L_3 = Symbol('L_3')\n",
    "J3 = sympy.MutableDenseMatrix([[L_1*sin(theta_2 + theta_3) + L_2*sin(theta_3), L_2*sin(theta_3), 0], [L_1*cos(theta_2 + theta_3) + L_2*cos(theta_3) + L_3, L_2*cos(theta_3) + L_3, L_3], [1, 1, 1]])"
   ]
  },
  {
   "cell_type": "code",
   "execution_count": 79,
   "id": "e0a97bb5-0445-4703-b46c-ce397a66a82e",
   "metadata": {},
   "outputs": [
    {
     "data": {
      "image/png": "[encoded data removed]",
      "text/latex": [
       "$\\displaystyle \\left[\\begin{matrix}L_{1} \\sin{\\left(\\theta_{2} + \\theta_{3} \\right)} + L_{2} \\sin{\\left(\\theta_{3} \\right)} & L_{2} \\sin{\\left(\\theta_{3} \\right)} & 0\\\\L_{1} \\cos{\\left(\\theta_{2} + \\theta_{3} \\right)} + L_{2} \\cos{\\left(\\theta_{3} \\right)} + L_{3} & L_{2} \\cos{\\left(\\theta_{3} \\right)} + L_{3} & L_{3}\\\\1 & 1 & 1\\end{matrix}\\right]$"
      ],
      "text/plain": [
       "⎡  L₁⋅sin(θ₂ + θ₃) + L₂⋅sin(θ₃)       L₂⋅sin(θ₃)     0 ⎤\n",
       "⎢                                                      ⎥\n",
       "⎢L₁⋅cos(θ₂ + θ₃) + L₂⋅cos(θ₃) + L₃  L₂⋅cos(θ₃) + L₃  L₃⎥\n",
       "⎢                                                      ⎥\n",
       "⎣                1                         1         1 ⎦"
      ]
     },
     "execution_count": 79,
     "metadata": {},
     "output_type": "execute_result"
    }
   ],
   "source": [
    "J3"
   ]
  },
  {
   "cell_type": "markdown",
   "id": "390ea9e8-6171-41e8-84dd-98c08739011c",
   "metadata": {},
   "source": [
    "- find the determinant for `J3`\n",
    "- substitute the singularity condition back into `J3`\n",
    "- see if you can learn/understand anything about the singularity condition"
   ]
  },
  {
   "cell_type": "markdown",
   "id": "29b8088d-fe5b-4cd7-ae52-fd6472395850",
   "metadata": {},
   "source": [
    "## Finding the Jacobian in Frame 1"
   ]
  },
  {
   "cell_type": "markdown",
   "id": "59f4a9ad-7d7e-4dc1-aa96-8e908440ad09",
   "metadata": {},
   "source": [
    "### Problem Statement - Part 2\n",
    "\n",
    "**Claim:** The Jacobian in Frame 1 will make it easier to understand the singularity condition for this robot.\n",
    "\n",
    "**Approach:**  If we have $^3v_{tip}$, we need to find $^1v_{tip} in order to find the Jacobian in frame 1.\n",
    "\n",
    "- Find the Jacobian in frame 1 and substitute the singularity condition to understand what the singularity means.\n",
    "\n"
   ]
  },
  {
   "cell_type": "code",
   "execution_count": 90,
   "id": "b2298505-24ad-4bfa-8aed-ce33062245ea",
   "metadata": {},
   "outputs": [],
   "source": [
    "th1dot, th2dot, th3dot = sympy.symbols(['\\\\dot{\\\\theta_1}','\\\\dot{\\\\theta_2}', \\\n",
    "                                       '\\\\dot{\\\\theta_3}'])"
   ]
  },
  {
   "cell_type": "code",
   "execution_count": 91,
   "id": "993a4300-7fbd-442f-87af-bc0aec195478",
   "metadata": {},
   "outputs": [],
   "source": [
    "L_1 = Symbol('L_1')\n",
    "#th1dot = Symbol('th1dot')\n",
    "theta_2 = Symbol('theta_2')\n",
    "theta_3 = Symbol('theta_3')\n",
    "L_2 = Symbol('L_2')\n",
    "#th2dot = Symbol('th2dot')\n",
    "L_3 = Symbol('L_3')\n",
    "#th3dot = Symbol('th3dot')\n",
    "v_tipf3 = sympy.MutableDenseMatrix([[L_1*th1dot*sin(theta_2 + theta_3) + L_2*th1dot*sin(theta_3) + L_2*th2dot*sin(theta_3)], [L_1*th1dot*cos(theta_2 + theta_3) + L_2*th1dot*cos(theta_3) + L_2*th2dot*cos(theta_3) + L_3*th1dot + L_3*th2dot + L_3*th3dot], [0]])"
   ]
  },
  {
   "cell_type": "markdown",
   "id": "31b358ad-a0b2-46c4-8553-8ac51d87d05c",
   "metadata": {},
   "source": [
    "### From LA 12\n",
    "\n",
    "This could also be helpful in checking your LA 12 answers:"
   ]
  },
  {
   "cell_type": "code",
   "execution_count": 92,
   "id": "1e4e800b-c122-42e3-8882-6d7a658725ac",
   "metadata": {},
   "outputs": [
    {
     "data": {
      "image/png": "[encoded data removed]",
      "text/latex": [
       "$\\displaystyle \\left[\\begin{matrix}L_{1} \\dot{\\theta_1} \\sin{\\left(\\theta_{2} + \\theta_{3} \\right)} + L_{2} \\dot{\\theta_1} \\sin{\\left(\\theta_{3} \\right)} + L_{2} \\dot{\\theta_2} \\sin{\\left(\\theta_{3} \\right)}\\\\L_{1} \\dot{\\theta_1} \\cos{\\left(\\theta_{2} + \\theta_{3} \\right)} + L_{2} \\dot{\\theta_1} \\cos{\\left(\\theta_{3} \\right)} + L_{2} \\dot{\\theta_2} \\cos{\\left(\\theta_{3} \\right)} + L_{3} \\dot{\\theta_1} + L_{3} \\dot{\\theta_2} + L_{3} \\dot{\\theta_3}\\\\0\\end{matrix}\\right]$"
      ],
      "text/plain": [
       "⎡                              L₁⋅\\dot{\\theta_1}⋅sin(θ₂ + θ₃) + L₂⋅\\dot{\\theta ↪\n",
       "⎢                                                                              ↪\n",
       "⎢L₁⋅\\dot{\\theta_1}⋅cos(θ₂ + θ₃) + L₂⋅\\dot{\\theta_1}⋅cos(θ₃) + L₂⋅\\dot{\\theta_2 ↪\n",
       "⎢                                                                              ↪\n",
       "⎣                                                                        0     ↪\n",
       "\n",
       "↪ _1}⋅sin(θ₃) + L₂⋅\\dot{\\theta_2}⋅sin(θ₃)                              ⎤\n",
       "↪                                                                      ⎥\n",
       "↪ }⋅cos(θ₃) + L₃⋅\\dot{\\theta_1} + L₃⋅\\dot{\\theta_2} + L₃⋅\\dot{\\theta_3}⎥\n",
       "↪                                                                      ⎥\n",
       "↪                                                                      ⎦"
      ]
     },
     "execution_count": 92,
     "metadata": {},
     "output_type": "execute_result"
    }
   ],
   "source": [
    "v_tipf3"
   ]
  },
  {
   "cell_type": "code",
   "execution_count": 93,
   "id": "bc30e761-83e6-461c-a029-aa7ac9a10f9b",
   "metadata": {},
   "outputs": [
    {
     "data": {
      "image/png": "[encoded data removed]",
      "text/latex": [
       "$\\displaystyle \\dot{\\theta_1} + \\dot{\\theta_2} + \\dot{\\theta_3}$"
      ],
      "text/plain": [
       "\\dot{\\theta_1} + \\dot{\\theta_2} + \\dot{\\theta_3}"
      ]
     },
     "execution_count": 93,
     "metadata": {},
     "output_type": "execute_result"
    }
   ],
   "source": [
    "wz = th1dot+th2dot+th3dot\n",
    "wz"
   ]
  }
 ],
 "metadata": {
  "kernelspec": {
   "display_name": "Python 3 (ipykernel)",
   "language": "python",
   "name": "python3"
  },
  "language_info": {
   "codemirror_mode": {
    "name": "ipython",
    "version": 3
   },
   "file_extension": ".py",
   "mimetype": "text/x-python",
   "name": "python",
   "nbconvert_exporter": "python",
   "pygments_lexer": "ipython3",
   "version": "3.13.3"
  }
 },
 "nbformat": 4,
 "nbformat_minor": 5
}
