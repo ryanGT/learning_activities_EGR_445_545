{
 "cells": [
  {
   "cell_type": "markdown",
   "metadata": {},
   "source": [
    "# PUMA Inverse Kinematics Wrist Example"
   ]
  },
  {
   "cell_type": "markdown",
   "metadata": {},
   "source": [
    "## PUMA YouTube Video\n",
    "\n",
    "If you aren't sure how the PUMA moves or what the schematic needs to capture, watch this video:\n",
    "[https://youtu.be/ArzP7rh4_9Q](https://youtu.be/ArzP7rh4_9Q)"
   ]
  },
  {
   "cell_type": "markdown",
   "metadata": {},
   "source": [
    "Here is a link to Dr. Krauss' YouTube video concerning the PVC PUMA model:\n",
    "[https://youtu.be/lX0cCZkAzrU](https://youtu.be/lX0cCZkAzrU)"
   ]
  },
  {
   "cell_type": "code",
   "execution_count": 1,
   "metadata": {},
   "outputs": [],
   "source": [
    "def myarraytest(in1, in2):\n",
    "    mydiff = np.array(in1) - np.array(in2)\n",
    "    mymax = np.max(np.abs(mydiff))\n",
    "    return mymax < 1e-6"
   ]
  },
  {
   "cell_type": "code",
   "execution_count": 13,
   "metadata": {},
   "outputs": [],
   "source": [
    "%matplotlib inline\n",
    "import matplotlib.pyplot as plt\n",
    "import numpy as np\n",
    "from numpy import sin, cos, tan, pi\n",
    "import robotics\n",
    "from robotics import Rx, Ry, Rz, sind, cosd, DH, HTinv, dot_list, prettymat\n",
    "rtd = 180/pi\n",
    "dtr = pi/180"
   ]
  },
  {
   "cell_type": "markdown",
   "metadata": {},
   "source": [
    "<img src=\"https://faculty.gvsu.edu/kraussry/445_images/puma/puma_pvc_joint_angles.jpeg\" width=300px>"
   ]
  },
  {
   "cell_type": "markdown",
   "metadata": {},
   "source": [
    "<img src=\"https://faculty.gvsu.edu/kraussry/445_images/puma/puma_sort_of_top_back.jpeg\" width=300px>"
   ]
  },
  {
   "cell_type": "markdown",
   "metadata": {},
   "source": [
    "<img src=\"https://faculty.gvsu.edu/kraussry/445_images/puma/puma_weird_schematic.jpeg\" width=300px>"
   ]
  },
  {
   "cell_type": "markdown",
   "metadata": {},
   "source": [
    "<img src=\"https://faculty.gvsu.edu/kraussry/445_images/puma/puma_pvc_in_schematic_position.jpeg\" width=300px>"
   ]
  },
  {
   "cell_type": "markdown",
   "metadata": {},
   "source": [
    "For the PUMA model above, the following lengths are in inches:"
   ]
  },
  {
   "cell_type": "code",
   "execution_count": 3,
   "metadata": {},
   "outputs": [],
   "source": [
    "A = 16\n",
    "B = 9\n",
    "C = 21\n",
    "D = 3.5\n",
    "E = 3\n",
    "F = 11\n",
    "G = 5"
   ]
  },
  {
   "cell_type": "markdown",
   "metadata": {},
   "source": [
    "## Dr. Krauss' PUMA DH Table"
   ]
  },
  {
   "cell_type": "markdown",
   "metadata": {},
   "source": [
    "i|$\\alpha$|$a$|$\\theta$|d\n",
    "-|--------|----|--------|-------------\n",
    "1|0|0|$\\theta_1$|A\n",
    "2|90|0|$\\theta_2$|0\n",
    "3|0|C|$\\theta_3$|D-B\n",
    "4|90|E|th4|F\n",
    "5|-90|0|th5|0\n",
    "6|90|0|th6|G"
   ]
  },
  {
   "cell_type": "markdown",
   "metadata": {},
   "source": [
    "## Problem Statement\n",
    "\n",
    "Given the HT matrix $^0_{tip}\\mathbf{T}$:"
   ]
  },
  {
   "cell_type": "code",
   "execution_count": 15,
   "metadata": {},
   "outputs": [
    {
     "data": {
      "text/plain": [
       "array([[-0.04905994, -0.79720351,  0.60171396, 31.60648245],\n",
       "       [-0.89714672,  0.29996241,  0.32426889, 12.78315737],\n",
       "       [-0.43899987, -0.52391709, -0.72992465, 16.36523055],\n",
       "       [ 0.        ,  0.        ,  0.        ,  1.        ]])"
      ]
     },
     "execution_count": 15,
     "metadata": {},
     "output_type": "execute_result"
    }
   ],
   "source": [
    "T_0_tip = np.array([[-0.04905994, -0.79720351,  0.60171396, 31.60648245],\n",
    "       [-0.89714672,  0.29996241,  0.32426889, 12.78315737],\n",
    "       [-0.43899987, -0.52391709, -0.72992465, 16.36523055],\n",
    "       [ 0.        ,  0.        ,  0.        ,  1.        ]])\n",
    "T_0_tip"
   ]
  },
  {
   "cell_type": "markdown",
   "metadata": {},
   "source": [
    "### Step 1"
   ]
  },
  {
   "cell_type": "markdown",
   "metadata": {},
   "source": [
    "First, use the technique outlined in lecture to find the wrist location, $^0P_{wrist}$"
   ]
  },
  {
   "cell_type": "code",
   "execution_count": 33,
   "metadata": {},
   "outputs": [
    {
     "data": {
      "text/plain": [
       "array([28.59791263, 11.16181292, 20.01485379])"
      ]
     },
     "execution_count": 33,
     "metadata": {},
     "output_type": "execute_result"
    }
   ],
   "source": [
    "P_wrist_0_check = np.array([28.59791263, 11.16181292, 20.01485379])\n",
    "P_wrist_0_check"
   ]
  },
  {
   "cell_type": "markdown",
   "metadata": {},
   "source": [
    "### Steps 2-N"
   ]
  },
  {
   "cell_type": "markdown",
   "metadata": {},
   "source": [
    "Assume you found the first three joint angles based on graphical analysis of the top and side views:"
   ]
  },
  {
   "cell_type": "code",
   "execution_count": 4,
   "metadata": {},
   "outputs": [],
   "source": [
    "th1 = 11\n",
    "th2 = 22\n",
    "th3 = 33"
   ]
  },
  {
   "cell_type": "markdown",
   "metadata": {},
   "source": [
    "- Verify that these three joint angles lead to the correct wrist location $^0P_{wrist}$\n",
    "- Find $^0_{w}\\mathbf{T}$\n",
    "- Find the joint angles $\\theta_4$, $\\theta_5$, and $\\theta_6$\n",
    "    - Find $^W_{tip}\\mathbf{T}_{num}$\n",
    "    - Use symbolic forward kinematics to find $^W_{tip}\\mathbf{T}_{sym}$\n",
    "    - Pick out equations to help you find $\\theta_4$, $\\theta_5$, and $\\theta_6$\n",
    "- Use forward kinematics to verify that you have a valid full solution that leads to $^0_{tip}\\mathbf{T}$"
   ]
  },
  {
   "cell_type": "markdown",
   "metadata": {},
   "source": [
    "## Answers for checking\n",
    "\n",
    "\n",
    "$^0_{w}\\mathbf{T}$:"
   ]
  },
  {
   "cell_type": "code",
   "execution_count": 37,
   "metadata": {},
   "outputs": [
    {
     "data": {
      "text/plain": [
       "array([[ 0.56303822,  0.190809  ,  0.80410191, 28.59791263],\n",
       "       [ 0.10944354, -0.98162718,  0.15630158, 11.16181292],\n",
       "       [ 0.81915204,  0.        , -0.57357644, 20.01485379],\n",
       "       [ 0.        ,  0.        ,  0.        ,  1.        ]])"
      ]
     },
     "execution_count": 37,
     "metadata": {},
     "output_type": "execute_result"
    }
   ],
   "source": [
    "T_0_wrist_check = np.array([[ 0.56303822,  0.190809  ,  0.80410191, 28.59791263],\n",
    "       [ 0.10944354, -0.98162718,  0.15630158, 11.16181292],\n",
    "       [ 0.81915204,  0.        , -0.57357644, 20.01485379],\n",
    "       [ 0.        ,  0.        ,  0.        ,  1.        ]])\n",
    "T_0_wrist_check"
   ]
  },
  {
   "cell_type": "markdown",
   "metadata": {},
   "source": [
    "$^W_{tip}\\mathbf{T}_{num}$:"
   ]
  },
  {
   "cell_type": "code",
   "execution_count": 40,
   "metadata": {},
   "outputs": [
    {
     "data": {
      "text/plain": [
       "array([[-0.48541718, -0.84519485, -0.22364217, -1.11821086],\n",
       "       [ 0.87130253, -0.44656486, -0.20349872, -1.0174936 ],\n",
       "       [ 0.07212534, -0.29364177,  0.95319067,  4.76595334],\n",
       "       [ 0.        ,  0.        ,  0.        ,  1.        ]])"
      ]
     },
     "execution_count": 40,
     "metadata": {},
     "output_type": "execute_result"
    }
   ],
   "source": [
    "T_wrist_tip_check = np.array([[-0.48541718, -0.84519485, -0.22364217, -1.11821086],\n",
    "       [ 0.87130253, -0.44656486, -0.20349872, -1.0174936 ],\n",
    "       [ 0.07212534, -0.29364177,  0.95319067,  4.76595334],\n",
    "       [ 0.        ,  0.        ,  0.        ,  1.        ]])\n",
    "T_wrist_tip_check"
   ]
  }
 ],
 "metadata": {
  "celltoolbar": "Create Assignment",
  "kernelspec": {
   "display_name": "Python 3 (ipykernel)",
   "language": "python",
   "name": "python3"
  },
  "language_info": {
   "codemirror_mode": {
    "name": "ipython",
    "version": 3
   },
   "file_extension": ".py",
   "mimetype": "text/x-python",
   "name": "python",
   "nbconvert_exporter": "python",
   "pygments_lexer": "ipython3",
   "version": "3.13.3"
  }
 },
 "nbformat": 4,
 "nbformat_minor": 4
}
