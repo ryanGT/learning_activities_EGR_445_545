{
 "cells": [
  {
   "cell_type": "markdown",
   "id": "56d2eef0-9334-4861-b726-74e5f7457dcc",
   "metadata": {},
   "source": [
    "## SCARA Inverse Kinematics Simple Example"
   ]
  },
  {
   "cell_type": "code",
   "execution_count": 5,
   "id": "42b1cb7e-1642-4780-a249-6dc24bdb552d",
   "metadata": {},
   "outputs": [],
   "source": [
    "%matplotlib inline\n",
    "import matplotlib.pyplot as plt\n",
    "import numpy as np\n",
    "from numpy import sin, cos, tan, pi\n",
    "import robotics\n",
    "from robotics import Rz, Ry, Rz, sind, cosd, DH\n",
    "rtd = 180/pi\n",
    "dtr = pi/180"
   ]
  },
  {
   "cell_type": "markdown",
   "id": "d2d6da8f-2753-481f-8696-8367cfe95b43",
   "metadata": {},
   "source": [
    "## SCARA Robot Description"
   ]
  },
  {
   "cell_type": "markdown",
   "id": "fc1b872f-5e62-4b75-833b-ecd9d43414cf",
   "metadata": {},
   "source": [
    "<img src=\"https://faculty.gvsu.edu/kraussry/445_images/inverse_kin_sketches/SCARA_schematic_cropped.png\" width=500px>"
   ]
  },
  {
   "cell_type": "markdown",
   "id": "c50706c9-6036-4569-84dd-9e823ad1a7c6",
   "metadata": {},
   "source": [
    "SCARA robots consist of two rotational joints and one prismatic joint, where all $Z$ axes are parallel.  Links $L_1$ and $L_2$ move in a horizontal plane and the prismatic joint moves vertically.  SCARA robots are typically used in pick-and-place operations where high speed or high precision are required."
   ]
  },
  {
   "cell_type": "markdown",
   "id": "a23671f6-ce7b-4c46-b645-bb157da71383",
   "metadata": {},
   "source": [
    "## Problem Statement\n",
    "\n",
    "Given the lengths"
   ]
  },
  {
   "cell_type": "code",
   "execution_count": 6,
   "id": "c07f4a66-eeea-4293-b257-f9ed9c982b9b",
   "metadata": {},
   "outputs": [],
   "source": [
    "H = 10\n",
    "L1 = 12\n",
    "L2 = 8"
   ]
  },
  {
   "cell_type": "markdown",
   "id": "ebdf2954-1a87-410c-8ffa-f1c1d209af5e",
   "metadata": {},
   "source": [
    "find $\\theta_1$, $\\theta_2$, and $d_3$ to place the tip of the robot at \n",
    "$$^0P_{tip} = \\; \\begin{bmatrix} 17.55 \\\\ 8.724 \\\\ 5.644\\end{bmatrix}$$"
   ]
  },
  {
   "cell_type": "code",
   "execution_count": 15,
   "id": "45e589bb-bcbc-4a16-ad76-4cf9718196b6",
   "metadata": {},
   "outputs": [
    {
     "data": {
      "text/plain": [
       "array([17.5527639 ,  8.72406829,  5.644     ,  1.        ])"
      ]
     },
     "execution_count": 15,
     "metadata": {},
     "output_type": "execute_result"
    }
   ],
   "source": [
    "P_tip_0 = np.array([17.5527639 ,  8.72406829,  5.644     ,  1.        ])\n",
    "P_tip_0"
   ]
  },
  {
   "cell_type": "markdown",
   "id": "68222cd4-44b2-4fc9-a22d-6a92e9a6e422",
   "metadata": {},
   "source": [
    "### Verification\n",
    "\n",
    "Be sure to verify your answer using forward kinematics.  You will need to generate a DH table to do the verification."
   ]
  }
 ],
 "metadata": {
  "kernelspec": {
   "display_name": "Python 3 (ipykernel)",
   "language": "python",
   "name": "python3"
  },
  "language_info": {
   "codemirror_mode": {
    "name": "ipython",
    "version": 3
   },
   "file_extension": ".py",
   "mimetype": "text/x-python",
   "name": "python",
   "nbconvert_exporter": "python",
   "pygments_lexer": "ipython3",
   "version": "3.13.3"
  }
 },
 "nbformat": 4,
 "nbformat_minor": 5
}
