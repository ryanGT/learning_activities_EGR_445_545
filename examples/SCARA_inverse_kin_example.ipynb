{
 "cells": [
  {
   "cell_type": "markdown",
   "id": "56d2eef0-9334-4861-b726-74e5f7457dcc",
   "metadata": {},
   "source": [
    "## Inverse Kinematics Simple Example"
   ]
  },
  {
   "cell_type": "code",
   "execution_count": 1,
   "id": "42b1cb7e-1642-4780-a249-6dc24bdb552d",
   "metadata": {},
   "outputs": [],
   "source": [
    "%matplotlib inline\n",
    "import matplotlib.pyplot as plt\n",
    "import numpy as np\n",
    "from numpy import sin, cos, tan, pi\n",
    "import robotics\n",
    "from robotics import Rz, Ry, Rz, sind, cosd, DH\n",
    "rtd = 180/pi\n",
    "dtr = pi/180"
   ]
  },
  {
   "cell_type": "markdown",
   "id": "fc1b872f-5e62-4b75-833b-ecd9d43414cf",
   "metadata": {},
   "source": [
    "<img src=\"https://faculty.gvsu.edu/kraussry/445_images/inverse_kin_sketches/Simple_2_DOF_3_D_Robot_cropped.jpg\" width=300px>"
   ]
  },
  {
   "cell_type": "markdown",
   "id": "a23671f6-ce7b-4c46-b645-bb157da71383",
   "metadata": {},
   "source": [
    "## Problem Statement\n",
    "\n",
    "Given the lengths"
   ]
  },
  {
   "cell_type": "code",
   "execution_count": 2,
   "id": "c07f4a66-eeea-4293-b257-f9ed9c982b9b",
   "metadata": {},
   "outputs": [],
   "source": [
    "A = 10\n",
    "B = 7"
   ]
  },
  {
   "cell_type": "markdown",
   "id": "ebdf2954-1a87-410c-8ffa-f1c1d209af5e",
   "metadata": {},
   "source": [
    "find $\\theta_1$ and $\\theta_2$ to place the tip of the robot at \n",
    "$$^0P_{tip} = \\begin{bmatrix} 6.478 \\\\ 1.142 \\\\ 12.39\\end{bmatrix}$$"
   ]
  },
  {
   "cell_type": "markdown",
   "id": "3c54c9db-8784-47b0-90f2-f5787d2243eb",
   "metadata": {},
   "source": [
    "## Solution"
   ]
  },
  {
   "cell_type": "code",
   "execution_count": 3,
   "id": "31912d62-6265-43bc-b582-88fc299f4f81",
   "metadata": {},
   "outputs": [],
   "source": [
    "th1 = 10\n",
    "th2 = 20"
   ]
  },
  {
   "cell_type": "code",
   "execution_count": 4,
   "id": "615e01a6-3360-4c41-b0fe-e7c8fe417d9b",
   "metadata": {},
   "outputs": [],
   "source": [
    "T01 = DH(0,0,th1,A)"
   ]
  },
  {
   "cell_type": "code",
   "execution_count": 5,
   "id": "79ed2dc8-5ebf-43e3-95e6-04796ab78471",
   "metadata": {},
   "outputs": [],
   "source": [
    "T12 = DH(90,0,th2,0)"
   ]
  },
  {
   "cell_type": "code",
   "execution_count": 6,
   "id": "84be6fcc-db69-4ab4-b83d-78a7c0dba926",
   "metadata": {},
   "outputs": [],
   "source": [
    "P_tip_2 = np.array([B,0,0,1])"
   ]
  },
  {
   "cell_type": "code",
   "execution_count": 7,
   "id": "e1502c9d-46d3-41d8-aa7a-926a4cf01895",
   "metadata": {},
   "outputs": [
    {
     "data": {
      "text/plain": [
       "array([ 6.47791605,  1.14223138, 12.394141  ,  1.        ])"
      ]
     },
     "execution_count": 7,
     "metadata": {},
     "output_type": "execute_result"
    }
   ],
   "source": [
    "P_tip_0 = robotics.dot_list([T01,T12,P_tip_2])\n",
    "P_tip_0"
   ]
  },
  {
   "cell_type": "code",
   "execution_count": 8,
   "id": "95621ad6-77f9-428f-b7c1-f92433af1acc",
   "metadata": {},
   "outputs": [
    {
     "data": {
      "text/plain": [
       "np.float64(10.0)"
      ]
     },
     "execution_count": 8,
     "metadata": {},
     "output_type": "execute_result"
    }
   ],
   "source": [
    "np.arctan2(P_tip_0[1],P_tip_0[0])*rtd"
   ]
  },
  {
   "cell_type": "code",
   "execution_count": 9,
   "id": "5c9b6ef8-6fe7-42ea-9df0-216d3978a20f",
   "metadata": {},
   "outputs": [],
   "source": [
    "T10 = robotics.HTinv(T01)\n",
    "P_tip_1 = np.dot(T10,P_tip_0)"
   ]
  },
  {
   "cell_type": "code",
   "execution_count": 10,
   "id": "d6254f33-f28d-47f0-868a-1e0a30b136fa",
   "metadata": {},
   "outputs": [
    {
     "data": {
      "text/plain": [
       "array([6.57784835e+00, 2.18397415e-17, 2.39414100e+00, 1.00000000e+00])"
      ]
     },
     "execution_count": 10,
     "metadata": {},
     "output_type": "execute_result"
    }
   ],
   "source": [
    "P_tip_1"
   ]
  },
  {
   "cell_type": "code",
   "execution_count": 12,
   "id": "4460abd8-98b3-417f-b336-a312fceb8ead",
   "metadata": {},
   "outputs": [
    {
     "data": {
      "text/plain": [
       "np.float64(6.5778483455013586)"
      ]
     },
     "execution_count": 12,
     "metadata": {},
     "output_type": "execute_result"
    }
   ],
   "source": [
    "B*cosd(th2)"
   ]
  },
  {
   "cell_type": "code",
   "execution_count": 14,
   "id": "07055eb9-a8db-4961-807e-b3a16d92fea3",
   "metadata": {},
   "outputs": [
    {
     "data": {
      "text/plain": [
       "np.float64(2.394141003279681)"
      ]
     },
     "execution_count": 14,
     "metadata": {},
     "output_type": "execute_result"
    }
   ],
   "source": [
    "B*sind(th2)"
   ]
  },
  {
   "cell_type": "code",
   "execution_count": null,
   "id": "a4ded3c5-2185-45c8-a8ed-3b87d193272b",
   "metadata": {},
   "outputs": [],
   "source": []
  }
 ],
 "metadata": {
  "kernelspec": {
   "display_name": "Python 3 (ipykernel)",
   "language": "python",
   "name": "python3"
  },
  "language_info": {
   "codemirror_mode": {
    "name": "ipython",
    "version": 3
   },
   "file_extension": ".py",
   "mimetype": "text/x-python",
   "name": "python",
   "nbconvert_exporter": "python",
   "pygments_lexer": "ipython3",
   "version": "3.13.3"
  }
 },
 "nbformat": 4,
 "nbformat_minor": 5
}
