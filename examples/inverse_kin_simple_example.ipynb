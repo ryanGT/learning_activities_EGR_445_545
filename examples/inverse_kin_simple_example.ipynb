{
 "cells": [
  {
   "cell_type": "markdown",
   "id": "56d2eef0-9334-4861-b726-74e5f7457dcc",
   "metadata": {},
   "source": [
    "## Inverse Kinematics Simple Example"
   ]
  },
  {
   "cell_type": "code",
   "execution_count": 1,
   "id": "42b1cb7e-1642-4780-a249-6dc24bdb552d",
   "metadata": {},
   "outputs": [],
   "source": [
    "%matplotlib inline\n",
    "import matplotlib.pyplot as plt\n",
    "import numpy as np\n",
    "from numpy import sin, cos, tan, pi\n",
    "import robotics\n",
    "from robotics import Rz, Ry, Rz, sind, cosd, DH\n",
    "rtd = 180/pi\n",
    "dtr = pi/180"
   ]
  },
  {
   "cell_type": "markdown",
   "id": "fc1b872f-5e62-4b75-833b-ecd9d43414cf",
   "metadata": {},
   "source": [
    "<img src=\"https://faculty.gvsu.edu/kraussry/445_images/inverse_kin_sketches/Simple_2_DOF_3_D_Robot_cropped.jpg\" width=300px>"
   ]
  },
  {
   "cell_type": "markdown",
   "id": "a23671f6-ce7b-4c46-b645-bb157da71383",
   "metadata": {},
   "source": [
    "## Problem Statement\n",
    "\n",
    "Given the lengths"
   ]
  },
  {
   "cell_type": "code",
   "execution_count": 2,
   "id": "c07f4a66-eeea-4293-b257-f9ed9c982b9b",
   "metadata": {},
   "outputs": [],
   "source": [
    "A = 10\n",
    "B = 7"
   ]
  },
  {
   "cell_type": "markdown",
   "id": "ebdf2954-1a87-410c-8ffa-f1c1d209af5e",
   "metadata": {},
   "source": [
    "find $\\theta_1$ and $\\theta_2$ to place the tip of the robot at \n",
    "$$^0P_{tip} = \\begin{bmatrix} 6.478 \\\\ 1.142 \\\\ 12.39\\end{bmatrix}$$"
   ]
  }
 ],
 "metadata": {
  "kernelspec": {
   "display_name": "Python 3 (ipykernel)",
   "language": "python",
   "name": "python3"
  },
  "language_info": {
   "codemirror_mode": {
    "name": "ipython",
    "version": 3
   },
   "file_extension": ".py",
   "mimetype": "text/x-python",
   "name": "python",
   "nbconvert_exporter": "python",
   "pygments_lexer": "ipython3",
   "version": "3.13.3"
  }
 },
 "nbformat": 4,
 "nbformat_minor": 5
}
