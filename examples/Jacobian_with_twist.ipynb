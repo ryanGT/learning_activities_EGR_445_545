{
 "cells": [
  {
   "cell_type": "markdown",
   "id": "69f071a2-99b8-4379-901e-5c860f52ae3f",
   "metadata": {},
   "source": [
    "## Jacobian Example with Non-Parallel Z Axes"
   ]
  },
  {
   "cell_type": "markdown",
   "id": "7d6ccbfb-0196-4352-9acd-12e27e5662ac",
   "metadata": {},
   "source": [
    "<img src=\"https://faculty.gvsu.edu/kraussry/445_images/jacobian_robots/Jacobian_with_twist_025_07_01_12_35_06_excalidraw.png\" width=400px>"
   ]
  },
  {
   "cell_type": "markdown",
   "id": "24fa1570-8110-41fd-822b-228ed3255e94",
   "metadata": {},
   "source": [
    "### Problem Statement\n",
    "\n",
    "- Find $v_{tip}$ and the Jacobian for the robot shown above\n",
    "- also find the singularity conditions and discuss their physical meanings"
   ]
  },
  {
   "cell_type": "code",
   "execution_count": 2,
   "id": "c803ace6-83d8-46ba-b873-3e034c148eb1",
   "metadata": {},
   "outputs": [],
   "source": [
    "import sympy\n",
    "from sympy import Symbol, sin, cos, tan\n",
    "from sympy.interactive import printing\n",
    "printing.init_printing(use_latex=True)\n",
    "import robotics_sympy\n",
    "from robotics_sympy import DH"
   ]
  },
  {
   "cell_type": "code",
   "execution_count": 3,
   "id": "162301be-f567-48b2-a4b6-206dc01baeeb",
   "metadata": {},
   "outputs": [],
   "source": [
    "L1, L2, th1, th2, A = sympy.symbols(['L_1','L_2','theta_1','theta_2','A'])"
   ]
  },
  {
   "cell_type": "code",
   "execution_count": 4,
   "id": "2b5f315c-0efa-4c93-a80a-bd2db89a3a0c",
   "metadata": {},
   "outputs": [
    {
     "data": {
      "image/png": "[encoded data removed]",
      "text/latex": [
       "$\\displaystyle \\theta_{1}$"
      ],
      "text/plain": [
       "θ₁"
      ]
     },
     "execution_count": 4,
     "metadata": {},
     "output_type": "execute_result"
    }
   ],
   "source": [
    "th1"
   ]
  },
  {
   "cell_type": "code",
   "execution_count": 5,
   "id": "1ffaadd6-868f-446a-a201-6f84eac275b5",
   "metadata": {},
   "outputs": [],
   "source": [
    "th1dot, th2dot = sympy.symbols(['\\\\dot{\\\\theta_1}','\\\\dot{\\\\theta_2}'])"
   ]
  },
  {
   "cell_type": "code",
   "execution_count": 6,
   "id": "f39626d2-8126-409a-8e71-3e025ce3e747",
   "metadata": {},
   "outputs": [
    {
     "data": {
      "image/png": "[encoded data removed]",
      "text/latex": [
       "$\\displaystyle \\dot{\\theta_1}$"
      ],
      "text/plain": [
       "\\dot{\\theta_1}"
      ]
     },
     "execution_count": 6,
     "metadata": {},
     "output_type": "execute_result"
    }
   ],
   "source": [
    "th1dot"
   ]
  },
  {
   "cell_type": "code",
   "execution_count": 7,
   "id": "6e41cbeb-ad32-46ef-bbbb-b29f29d018ee",
   "metadata": {},
   "outputs": [],
   "source": [
    "p90 = sympy.pi/2\n",
    "n90 = -p90"
   ]
  },
  {
   "cell_type": "code",
   "execution_count": 8,
   "id": "b9198c68-ab03-4b3f-a1b7-c86ac0075454",
   "metadata": {},
   "outputs": [
    {
     "data": {
      "image/png": "[encoded data removed]",
      "text/latex": [
       "$\\displaystyle 1$"
      ],
      "text/plain": [
       "1"
      ]
     },
     "execution_count": 8,
     "metadata": {},
     "output_type": "execute_result"
    }
   ],
   "source": [
    "sympy.sin(p90)"
   ]
  },
  {
   "cell_type": "code",
   "execution_count": 9,
   "id": "a4986435-b6b2-499e-b638-bbabaee45306",
   "metadata": {},
   "outputs": [],
   "source": [
    "def J_row(v, theta_dots):\n",
    "    row_list = []\n",
    "    for theta_dot in theta_dots:\n",
    "        #print(\"theta_dot = %s\" % theta_dot)\n",
    "        item = v.diff(theta_dot)\n",
    "        row_list.append(item)\n",
    "    return row_list"
   ]
  },
  {
   "cell_type": "code",
   "execution_count": 10,
   "id": "f48ff8f4-5bdd-4fa9-b3c7-428f78af8d0a",
   "metadata": {},
   "outputs": [],
   "source": [
    "def find_J(vtip, theta_dots):\n",
    "    J_list = []\n",
    "    for v in vtip:\n",
    "        cur_row = J_row(v,theta_dots)#<-- find the row of the Jacobian for vtip[0], vtip[1], ...\n",
    "        J_list.append(cur_row)\n",
    "    return sympy.Matrix(J_list)"
   ]
  },
  {
   "cell_type": "code",
   "execution_count": 11,
   "id": "8aa00cdf-5cfb-4ca0-a670-03de449c12cf",
   "metadata": {},
   "outputs": [],
   "source": [
    "def create_theta_dot_vect(thdot):\n",
    "    return sympy.Matrix([[0],[0],[thdot]])"
   ]
  },
  {
   "cell_type": "code",
   "execution_count": null,
   "id": "c9de506a-347f-48ab-9a9f-fe4c07073509",
   "metadata": {},
   "outputs": [],
   "source": []
  }
 ],
 "metadata": {
  "kernelspec": {
   "display_name": "Python 3 (ipykernel)",
   "language": "python",
   "name": "python3"
  },
  "language_info": {
   "codemirror_mode": {
    "name": "ipython",
    "version": 3
   },
   "file_extension": ".py",
   "mimetype": "text/x-python",
   "name": "python",
   "nbconvert_exporter": "python",
   "pygments_lexer": "ipython3",
   "version": "3.13.3"
  }
 },
 "nbformat": 4,
 "nbformat_minor": 5
}
