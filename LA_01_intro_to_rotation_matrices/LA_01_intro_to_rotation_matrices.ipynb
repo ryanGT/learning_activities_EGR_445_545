{
 "cells": [
  {
   "cell_type": "markdown",
   "id": "2516d58e-c059-48b1-9ab7-387944c50658",
   "metadata": {},
   "source": [
    "# Learning Activity 1"
   ]
  },
  {
   "cell_type": "markdown",
   "id": "83d43d88-2d25-4f26-8da7-9f2efbb9cf35",
   "metadata": {},
   "source": [
    "## Plexiglass Robot Intro Example"
   ]
  },
  {
   "cell_type": "markdown",
   "id": "5c15e2c4-7ddc-4d1e-ab03-ff55f00925b0",
   "metadata": {},
   "source": [
    "<img src=\"https://faculty.gvsu.edu/kraussry/445_images/plexiglas_robot/plexiglas_top_view_frame_0_SS25.png\" width=700px>"
   ]
  },
  {
   "cell_type": "markdown",
   "id": "5d3524fc-93cc-4da4-9da2-80d2f85bb042",
   "metadata": {},
   "source": [
    "<img src=\"https://faculty.gvsu.edu/kraussry/445_images/plexiglas_robot/plexiglas_robot_theta_2_and_theta_3_ipe_cropped.png\" width=500px>"
   ]
  },
  {
   "cell_type": "markdown",
   "id": "21966584-6d2c-4a67-91be-574ab7df7fb9",
   "metadata": {},
   "source": [
    "$L_1 = 6$ in, $L_2 = 6.75$ in., $\\theta_1 = 20^\\circ$, $\\theta_2 = 30 ^\\circ$, and $\\theta_3 = 40^\\circ$"
   ]
  },
  {
   "cell_type": "markdown",
   "id": "33813593-3d8f-40c5-ae1e-ce9caea39c59",
   "metadata": {},
   "source": [
    "## Problem Statement\n",
    "\n",
    "Find $^0P_{tip}$ - the coordinates of the tip in frame 0"
   ]
  },
  {
   "cell_type": "code",
   "execution_count": 2,
   "id": "0b4a2765-0b09-4a82-8865-e24badf7a88e",
   "metadata": {},
   "outputs": [],
   "source": [
    "L1 = 6\n",
    "L2 = 6.75\n",
    "th1 = 20\n",
    "th2 = 30\n",
    "th3 = 40"
   ]
  },
  {
   "cell_type": "markdown",
   "id": "b2ec6588-c70b-47a7-ae4e-a1aca257a2dc",
   "metadata": {},
   "source": [
    "## Install Dr. Krauss' Robotics Module\n",
    "\n",
    "You should only have to do this once:"
   ]
  },
  {
   "cell_type": "code",
   "execution_count": 1,
   "id": "8ba8455a-138d-459c-82bd-376ceb303a32",
   "metadata": {},
   "outputs": [
    {
     "name": "stdout",
     "output_type": "stream",
     "text": [
      "Requirement already satisfied: robotics in /opt/homebrew/lib/python3.13/site-packages (1.2)\n",
      "\n",
      "\u001b[1m[\u001b[0m\u001b[34;49mnotice\u001b[0m\u001b[1;39;49m]\u001b[0m\u001b[39;49m A new release of pip is available: \u001b[0m\u001b[31;49m24.3.1\u001b[0m\u001b[39;49m -> \u001b[0m\u001b[32;49m25.1.1\u001b[0m\n",
      "\u001b[1m[\u001b[0m\u001b[34;49mnotice\u001b[0m\u001b[1;39;49m]\u001b[0m\u001b[39;49m To update, run: \u001b[0m\u001b[32;49m/opt/homebrew/Cellar/jupyterlab/4.3.3/libexec/bin/python -m pip install --upgrade pip\u001b[0m\n",
      "Note: you may need to restart the kernel to use updated packages.\n"
     ]
    }
   ],
   "source": [
    "pip install robotics"
   ]
  },
  {
   "cell_type": "markdown",
   "id": "2b39d956-bfe8-4a46-af9e-6a84c2d37cc8",
   "metadata": {},
   "source": [
    "## Starter Code"
   ]
  },
  {
   "cell_type": "code",
   "execution_count": 3,
   "id": "176075e6-ca56-467d-b4d3-a630727e7e2d",
   "metadata": {},
   "outputs": [],
   "source": [
    "%matplotlib inline\n",
    "import matplotlib.pyplot as plt\n",
    "import numpy as np\n",
    "from numpy import sin, cos, tan, pi\n",
    "import robotics\n",
    "from robotics import Rx, Ry, Rz, sind, cosd, DH\n",
    "rtd = 180/pi\n",
    "dtr = pi/180"
   ]
  },
  {
   "cell_type": "code",
   "execution_count": 15,
   "id": "f29de593-3216-4aed-9b7a-c88ced96c699",
   "metadata": {},
   "outputs": [],
   "source": [
    "def myarraytest(in1, in2):\n",
    "    mydiff = np.array(in1) - np.array(in2)\n",
    "    mymax = np.max(np.abs(mydiff))\n",
    "    if mymax < 1e-6:\n",
    "        print(\"success\")\n",
    "    else:\n",
    "        print(\"something went wrong\")\n",
    "        print(\"mymax = %s\" % mymax)\n",
    "        print(\"mydiff = %s\" % mydiff)"
   ]
  },
  {
   "cell_type": "markdown",
   "id": "06a0b96c-2f61-48f9-bc83-ad94c1c1368d",
   "metadata": {},
   "source": [
    "## Mathematical Approach\n",
    "\n",
    "- attach a coordinate frame to the base of each link\n",
    "- the position vector from frame 3 to the tip of the last link is known\n",
    "\n",
    "$^3P_{tip}$:"
   ]
  },
  {
   "cell_type": "code",
   "execution_count": 16,
   "id": "d304eed5-6184-447c-973d-57593bf1da04",
   "metadata": {},
   "outputs": [],
   "source": [
    "P_tip_3 = np.array([L2,0,0])"
   ]
  },
  {
   "cell_type": "code",
   "execution_count": 17,
   "id": "9702b01d-ef89-400a-b8f4-ad48ff096dcf",
   "metadata": {},
   "outputs": [
    {
     "data": {
      "text/plain": [
       "array([6.75, 0.  , 0.  ])"
      ]
     },
     "execution_count": 17,
     "metadata": {},
     "output_type": "execute_result"
    }
   ],
   "source": [
    "P_tip_3"
   ]
  },
  {
   "cell_type": "markdown",
   "id": "fbad8f3f-db30-437b-9c2a-1b18bbf616b8",
   "metadata": {},
   "source": [
    "### Next Steps\n",
    "\n",
    "- map $P_{tip}$ from frame 3 to frame 2, then from frame 2 to frame 1, and finally from frame 1 to frame 0.\n",
    "\n",
    "How do you find $^2P_{tip}$ using rotation matrices?\n",
    "\n",
    "- double check your answer using trig\n",
    "\n",
    "\n",
    "**Reminder:**\n",
    "\n",
    "$$^A P = \\; ^A_B\\mathbf{R} \\cdot ^B P$$"
   ]
  },
  {
   "cell_type": "code",
   "execution_count": null,
   "id": "b5c21074-d677-42d4-8a50-0f24d8f102f9",
   "metadata": {},
   "outputs": [],
   "source": []
  },
  {
   "cell_type": "markdown",
   "id": "5a0d7371-7401-4720-a5f1-f463278d325a",
   "metadata": {},
   "source": [
    "### Additional Steps\n",
    "\n",
    "- how do you find $^1P_{tip}$?\n",
    "- how do you find $^0P_{tip}$?\n",
    "- how do you verify your answer?"
   ]
  },
  {
   "cell_type": "markdown",
   "id": "8baa119b-791b-4a18-9340-6d19a8edc00b",
   "metadata": {},
   "source": [
    "## Final Answer Test\n",
    "\n",
    "- your code must put the answer in the variable `P_tip_0`"
   ]
  },
  {
   "cell_type": "code",
   "execution_count": 24,
   "id": "2ff64311-6ccc-4068-bc48-66ec2c877fc2",
   "metadata": {},
   "outputs": [],
   "source": [
    "ans = np.array([7.05219427, 2.5667888 , 9.34292519])"
   ]
  },
  {
   "cell_type": "code",
   "execution_count": 25,
   "id": "acdcb210-08a0-4ca8-8ec8-75400c1dadab",
   "metadata": {},
   "outputs": [
    {
     "name": "stdout",
     "output_type": "stream",
     "text": [
      "success\n"
     ]
    }
   ],
   "source": [
    "myarraytest(P_tip_0, ans)"
   ]
  }
 ],
 "metadata": {
  "kernelspec": {
   "display_name": "Python 3 (ipykernel)",
   "language": "python",
   "name": "python3"
  },
  "language_info": {
   "codemirror_mode": {
    "name": "ipython",
    "version": 3
   },
   "file_extension": ".py",
   "mimetype": "text/x-python",
   "name": "python",
   "nbconvert_exporter": "python",
   "pygments_lexer": "ipython3",
   "version": "3.13.3"
  }
 },
 "nbformat": 4,
 "nbformat_minor": 5
}
