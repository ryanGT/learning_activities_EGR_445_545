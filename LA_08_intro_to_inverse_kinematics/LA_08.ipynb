{
 "cells": [
  {
   "cell_type": "markdown",
   "id": "099dc7cb-a608-4f00-90e6-a41de8e52686",
   "metadata": {},
   "source": [
    "# Learning Activity 8\n"
   ]
  },
  {
   "cell_type": "code",
   "execution_count": 3,
   "id": "4fea2770-31fe-431e-a6e3-21909d4747a0",
   "metadata": {},
   "outputs": [],
   "source": [
    "%matplotlib inline\n",
    "import matplotlib.pyplot as plt\n",
    "import numpy as np\n",
    "from numpy import sin, cos, tan, pi\n",
    "\n",
    "import robotics\n",
    "from robotics import Rz, Ry, Rz, sind, cosd, DH, HTz\n",
    "rtd = 180/pi\n",
    "dtr = pi/180"
   ]
  },
  {
   "cell_type": "markdown",
   "id": "1352e9e4-57ec-400a-b9ba-08510b14c376",
   "metadata": {},
   "source": [
    "## Three Link Planar Robot\n",
    "\n",
    "<img src=\"https://faculty.gvsu.edu/kraussry/445_images/learning_activities/inverse_kin_sketches/inv_kin_3_3DOF_planar.png\" width=400px>"
   ]
  },
  {
   "cell_type": "markdown",
   "id": "c08c8fda-6da8-4129-84aa-cec040e5ba7c",
   "metadata": {},
   "source": [
    "### Problem Statement"
   ]
  },
  {
   "cell_type": "markdown",
   "id": "a9787308-1f8a-4c8e-acb4-97a9a2714799",
   "metadata": {},
   "source": [
    "Given the link lengths and the desired $^0_{tip}\\mathbf{T}$ matrix, find the joint angles $\\theta_1$, $\\theta_2$, and $\\theta_3$.  If there is more than one solution, please find all of them.\n",
    "\n",
    "**Note:** Be sure to verify your answer(s) using forward kinematics\n",
    "\n",
    "- do the values you found for the joint angles actually produce the desired $^0_{tip}\\mathbf{T}$?"
   ]
  },
  {
   "cell_type": "code",
   "execution_count": 4,
   "id": "3ae6ca92-1436-4e5b-8a0c-e62d34def52a",
   "metadata": {},
   "outputs": [],
   "source": [
    "L1 = 7\n",
    "L2 = 6\n",
    "L3 = 3"
   ]
  },
  {
   "cell_type": "code",
   "execution_count": 5,
   "id": "4a6c6fff-d59a-46a3-8ca0-9df85e96eeb2",
   "metadata": {},
   "outputs": [
    {
     "data": {
      "text/plain": [
       "array([[-0.4848, -0.8746,  0.    , 10.45  ],\n",
       "       [ 0.8746, -0.4848,  0.    ,  7.227 ],\n",
       "       [ 0.    ,  0.    ,  1.    ,  0.    ],\n",
       "       [ 0.    ,  0.    ,  0.    ,  1.    ]])"
      ]
     },
     "execution_count": 5,
     "metadata": {},
     "output_type": "execute_result"
    }
   ],
   "source": [
    "T_0tip = np.array([[-0.4848, -0.8746, 0, 10.45], \\\n",
    "                  [0.8746, -0.4848, 0, 7.227], \\\n",
    "                  [0,0,1,0],\\\n",
    "                  [0,0,0,1]])\n",
    "T_0tip"
   ]
  },
  {
   "cell_type": "markdown",
   "id": "f43af4cb-004e-4ba1-a492-63037bd6a91a",
   "metadata": {},
   "source": [
    "## Hint\n",
    "\n",
    "It may be helpful to find the wrist (i.e. the base of the last link).  These equations might be useful to find the wrist location in frame 0:"
   ]
  },
  {
   "cell_type": "markdown",
   "id": "1b17a358-d228-4715-ace7-fee640ee39aa",
   "metadata": {},
   "source": [
    "$$^0P_{tip} = \\; ^0P_{wrist} + ^0P_{w2t}$$\n",
    "\n",
    "$$^0P_{wrist} = \\; ^0P_{tip} - ^0P_{w2t}$$"
   ]
  }
 ],
 "metadata": {
  "kernelspec": {
   "display_name": "Python 3 (ipykernel)",
   "language": "python",
   "name": "python3"
  },
  "language_info": {
   "codemirror_mode": {
    "name": "ipython",
    "version": 3
   },
   "file_extension": ".py",
   "mimetype": "text/x-python",
   "name": "python",
   "nbconvert_exporter": "python",
   "pygments_lexer": "ipython3",
   "version": "3.13.3"
  }
 },
 "nbformat": 4,
 "nbformat_minor": 5
}
