{
 "cells": [
  {
   "cell_type": "markdown",
   "metadata": {},
   "source": [
    "# Learning Activity 3\n",
    "\n",
    "## Multiple Rotations and the Transpose is the Inverse"
   ]
  },
  {
   "cell_type": "code",
   "execution_count": 26,
   "metadata": {},
   "outputs": [],
   "source": [
    "%matplotlib inline\n",
    "import matplotlib.pyplot as plt\n",
    "import numpy as np\n",
    "from numpy import array\n",
    "from numpy import sin, cos, tan, pi\n",
    "import robotics\n",
    "from robotics import Rx, Ry, Rz, sind, cosd, DH\n",
    "rtd = 180/pi\n",
    "dtr = pi/180"
   ]
  },
  {
   "cell_type": "code",
   "execution_count": 27,
   "metadata": {},
   "outputs": [],
   "source": [
    "def myarraytest(in1, in2):\n",
    "    mydiff = np.array(in1) - np.array(in2)\n",
    "    mymax = np.max(np.abs(mydiff))\n",
    "    if mymax < 1e-6:\n",
    "        print(\"success\")\n",
    "    else:\n",
    "        print(\"something went wrong\")\n",
    "        print(\"mymax = %s\" % mymax)\n",
    "        print(\"mydiff = %s\" % mydiff)"
   ]
  },
  {
   "cell_type": "markdown",
   "metadata": {},
   "source": [
    "## Problem 1 - Compound Rotations\n",
    "\n",
    "- Find $^BP$ and $^AP$"
   ]
  },
  {
   "cell_type": "markdown",
   "metadata": {},
   "source": [
    "<img src=\"https://faculty.gvsu.edu/kraussry/445_images/learning_activities/compound_rotations/compound_rotation_1.png\" width=400px>\n"
   ]
  },
  {
   "cell_type": "markdown",
   "metadata": {},
   "source": [
    "**Note:** You are more likely to get the problem right if you find the unit vectors as columns of $^A_B\\mathbf{R}$ rather than trying to visualize multiple rotations.\n",
    "\n",
    "`np.column_stack` will help you build an array out of a list of columns."
   ]
  },
  {
   "cell_type": "markdown",
   "metadata": {},
   "source": [
    "### Problem 1 Test"
   ]
  },
  {
   "cell_type": "code",
   "execution_count": 19,
   "metadata": {},
   "outputs": [
    {
     "name": "stdout",
     "output_type": "stream",
     "text": [
      "success\n"
     ]
    }
   ],
   "source": [
    "myarraytest(P_A_1, np.array([4.33012702, 2.5       , 0.        ]))"
   ]
  },
  {
   "cell_type": "markdown",
   "metadata": {},
   "source": [
    "## Problem 2 - Compound Rotations\n",
    "\n",
    "- Find $^BP$ and $^AP$"
   ]
  },
  {
   "cell_type": "markdown",
   "metadata": {},
   "source": [
    "<img src=\"https://faculty.gvsu.edu/kraussry/445_images/learning_activities/compound_rotations/compound_rotation_2.png\" width=400px>\n"
   ]
  },
  {
   "cell_type": "markdown",
   "metadata": {},
   "source": [
    "### Problem 2 Test"
   ]
  },
  {
   "cell_type": "code",
   "execution_count": 21,
   "metadata": {},
   "outputs": [
    {
     "name": "stdout",
     "output_type": "stream",
     "text": [
      "success\n"
     ]
    }
   ],
   "source": [
    "myarraytest(P_A_2, np.array([0.59807621, 4.96410162, 0.        ]))"
   ]
  },
  {
   "cell_type": "markdown",
   "metadata": {},
   "source": [
    "## Problem 3 - Transpose/Inverse\n",
    "\n",
    "For the two axes shown below, \n",
    "- what is $^AP$?\n",
    "- what do you expect $^BP$ to be?\n",
    "- find $^B_A\\mathbf{R}$ and verify that you can use it correctly to calculate $^BP$\n",
    "- Compare three different approaches to finding $^B_A\\mathbf{R}$\n",
    "    1. using $R_z(-\\theta)$\n",
    "    2. $^B_A\\mathbf{R} \\; = \\; ^A_B\\mathbf{R}^T$\n",
    "    3. Finding the inverse numerically using `np.linalg.inv`"
   ]
  },
  {
   "cell_type": "markdown",
   "metadata": {},
   "source": [
    "<img src=\"https://faculty.gvsu.edu/kraussry/445_images/learning_activities/compound_rotations/transpose_is_inverse1.png\" width=700px>"
   ]
  },
  {
   "cell_type": "markdown",
   "metadata": {},
   "source": [
    "## Problem 4 - Transpose/Inverse"
   ]
  },
  {
   "cell_type": "markdown",
   "metadata": {},
   "source": [
    "<img src=\"https://faculty.gvsu.edu/kraussry/445_images/learning_activities/compound_rotations/transpose_is_inverse2.png\" width=500px>"
   ]
  },
  {
   "cell_type": "markdown",
   "metadata": {},
   "source": [
    "\n",
    "- For the axis shown above, find $^A_B\\mathbf{R}$ and $^B_A\\mathbf{R}$.\n",
    "- Then calculate $^A\\mathbf{P}$, $^B\\mathbf{Q}$, $^A\\mathbf{M}$, and $^B\\mathbf{N}$.\n",
    "- Again, compare three different approaches to finding $^B_A\\mathbf{R}$\n",
    "    1. using $R_z(-\\theta)$\n",
    "    2. $^B_A\\mathbf{R} \\; = \\; ^A_B\\mathbf{R}^T$\n",
    "    3. Finding the inverse numerically using `np.linalg.inv`\n",
    "- verify that $^B_A\\mathbf{R} \\; = \\; ^A_B\\mathbf{R}^{-1}$\n",
    "    - also try $R_x$ and $R_y$ and verify that the transpose of a rotation matrix is also the inverse"
   ]
  },
  {
   "cell_type": "markdown",
   "metadata": {},
   "source": [
    "### Conceptual Questions\n",
    "\n",
    "What do you expect for the signs of the following vectors?:\n",
    "\n",
    "- $Q_B$\n",
    "- $P_A$\n",
    "- $N_B$\n",
    "- $M_A$"
   ]
  },
  {
   "cell_type": "markdown",
   "metadata": {},
   "source": [
    "## Problem 4 Tests"
   ]
  },
  {
   "cell_type": "code",
   "execution_count": 28,
   "metadata": {},
   "outputs": [
    {
     "name": "stdout",
     "output_type": "stream",
     "text": [
      "success\n"
     ]
    }
   ],
   "source": [
    "myarraytest(Q_B_4, array([ 3.70873542, -1.49842637,  0.        ]))"
   ]
  },
  {
   "cell_type": "code",
   "execution_count": 30,
   "metadata": {},
   "outputs": [
    {
     "name": "stdout",
     "output_type": "stream",
     "text": [
      "success\n"
     ]
    }
   ],
   "source": [
    "myarraytest(P_A_4, array([4.63591927, 1.87303297, 0.        ]))"
   ]
  },
  {
   "cell_type": "code",
   "execution_count": 33,
   "metadata": {},
   "outputs": [
    {
     "name": "stdout",
     "output_type": "stream",
     "text": [
      "success\n"
     ]
    }
   ],
   "source": [
    "myarraytest(N_B_4, array([2.24763956, 5.56310313, 0.        ]))"
   ]
  },
  {
   "cell_type": "code",
   "execution_count": 35,
   "metadata": {},
   "outputs": [
    {
     "name": "stdout",
     "output_type": "stream",
     "text": [
      "success\n"
     ]
    }
   ],
   "source": [
    "myarraytest(M_A_4, array([-1.12381978,  2.78155156,  0.        ]))"
   ]
  }
 ],
 "metadata": {
  "kernelspec": {
   "display_name": "Python 3 (ipykernel)",
   "language": "python",
   "name": "python3"
  },
  "language_info": {
   "codemirror_mode": {
    "name": "ipython",
    "version": 3
   },
   "file_extension": ".py",
   "mimetype": "text/x-python",
   "name": "python",
   "nbconvert_exporter": "python",
   "pygments_lexer": "ipython3",
   "version": "3.13.3"
  }
 },
 "nbformat": 4,
 "nbformat_minor": 4
}
