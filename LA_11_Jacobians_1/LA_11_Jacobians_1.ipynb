{
 "cells": [
  {
   "cell_type": "markdown",
   "id": "3926f27c-cd97-4ea7-b7c3-547a792781c1",
   "metadata": {},
   "source": [
    "# LA 10 - Jacobians 1"
   ]
  },
  {
   "cell_type": "code",
   "execution_count": 14,
   "id": "6acba10f-a24d-49d2-93cb-94e3ca496d6b",
   "metadata": {},
   "outputs": [],
   "source": [
    "import sympy\n",
    "from sympy.interactive import printing\n",
    "printing.init_printing(use_latex=True)\n",
    "import robotics_sympy\n",
    "from sympy import sin, cos#living on the edge"
   ]
  },
  {
   "cell_type": "code",
   "execution_count": 15,
   "id": "04a564fe-3371-4461-98b0-80760fa78fbc",
   "metadata": {},
   "outputs": [],
   "source": [
    "p90 = sympy.pi/2\n",
    "n90 = -p90"
   ]
  },
  {
   "cell_type": "code",
   "execution_count": 16,
   "id": "290092f2-32a7-435d-a417-db437697732b",
   "metadata": {},
   "outputs": [
    {
     "data": {
      "text/plain": [
       "sin"
      ]
     },
     "execution_count": 16,
     "metadata": {},
     "output_type": "execute_result"
    }
   ],
   "source": [
    "sympy.sin"
   ]
  },
  {
   "cell_type": "code",
   "execution_count": 17,
   "id": "d6fdab69-b0fe-40e2-9012-a3507ad9bcf6",
   "metadata": {},
   "outputs": [],
   "source": [
    "L1, L2, th1, th2 = sympy.symbols(['L_1','L_2','theta_1','theta_2'])"
   ]
  },
  {
   "cell_type": "code",
   "execution_count": 18,
   "id": "25bf5f7e-2550-4683-9293-f797fdf479d0",
   "metadata": {},
   "outputs": [],
   "source": [
    "th1dot, th2dot = sympy.symbols(['\\\\dot{\\\\theta_1}','\\\\dot{\\\\theta_2}'])"
   ]
  },
  {
   "cell_type": "markdown",
   "id": "758706fb-a925-43d6-a4b6-2659d4ff337d",
   "metadata": {},
   "source": [
    "## A word of caution\n",
    "\n",
    "Be very careful when mixing symbolic and numeric stuff in the same notebook\n",
    "- I sometimes try to keep them in separate notebooks\n",
    "\n",
    "If you import the same thing from `sympy` and `numpy`, whatever gets imported last is what is used:"
   ]
  },
  {
   "cell_type": "code",
   "execution_count": 19,
   "id": "d35e0069-5795-4c1f-a4fb-a21be1332f99",
   "metadata": {},
   "outputs": [],
   "source": [
    "from numpy import pi"
   ]
  },
  {
   "cell_type": "code",
   "execution_count": 20,
   "id": "565fbd45-f621-4c57-8286-763997dbbd3e",
   "metadata": {},
   "outputs": [
    {
     "data": {
      "image/png": "[encoded data removed]",
      "text/latex": [
       "$\\displaystyle 3.14159265358979$"
      ],
      "text/plain": [
       "3.141592653589793"
      ]
     },
     "execution_count": 20,
     "metadata": {},
     "output_type": "execute_result"
    }
   ],
   "source": [
    "pi"
   ]
  },
  {
   "cell_type": "code",
   "execution_count": 21,
   "id": "6dd1c2e1-ebca-426d-804b-9c9d37a5d0df",
   "metadata": {},
   "outputs": [],
   "source": [
    "from sympy import pi"
   ]
  },
  {
   "cell_type": "code",
   "execution_count": 22,
   "id": "ef305544-b61d-4284-be96-1aabbe1dfe85",
   "metadata": {},
   "outputs": [
    {
     "data": {
      "image/png": "[encoded data removed]",
      "text/latex": [
       "$\\displaystyle \\pi$"
      ],
      "text/plain": [
       "π"
      ]
     },
     "execution_count": 22,
     "metadata": {},
     "output_type": "execute_result"
    }
   ],
   "source": [
    "pi"
   ]
  },
  {
   "cell_type": "code",
   "execution_count": 23,
   "id": "28ecc588-d061-43cf-a003-3a0c89413fa8",
   "metadata": {},
   "outputs": [
    {
     "data": {
      "image/png": "[encoded data removed]",
      "text/latex": [
       "$\\displaystyle \\pi$"
      ],
      "text/plain": [
       "π"
      ]
     },
     "execution_count": 23,
     "metadata": {},
     "output_type": "execute_result"
    }
   ],
   "source": [
    "pi"
   ]
  },
  {
   "cell_type": "code",
   "execution_count": 24,
   "id": "cb7230dc-c144-45da-85f5-8d2e295d8c4c",
   "metadata": {},
   "outputs": [
    {
     "data": {
      "image/png": "[encoded data removed]",
      "text/latex": [
       "$\\displaystyle 0$"
      ],
      "text/plain": [
       "0"
      ]
     },
     "execution_count": 24,
     "metadata": {},
     "output_type": "execute_result"
    }
   ],
   "source": [
    "sympy.sin(pi)"
   ]
  },
  {
   "cell_type": "markdown",
   "id": "232352f4-a7be-4992-b933-6d8fb795c500",
   "metadata": {},
   "source": [
    "## Problem 1\n",
    "\n",
    "<img src=\"https://faculty.gvsu.edu/kraussry/445_images/learning_activities/jacobians/two_link_with_twist.png\" width=500px>\n"
   ]
  },
  {
   "cell_type": "markdown",
   "id": "5149ff6a-9e89-45e6-b013-f9d986c02ce9",
   "metadata": {},
   "source": [
    "- find $\\bar{v}_{tip}$\n",
    "- this is 3D but 2DOF\n",
    "    - how might this go wrong?\n",
    "- can you find the Jacobian?\n",
    "    - if so, what are the singularity conditions?"
   ]
  },
  {
   "cell_type": "markdown",
   "id": "78ff450d-fe14-46a1-aace-316c88bc56c3",
   "metadata": {},
   "source": [
    "### Answers\n",
    "\n",
    "$$^2v_{tip} = \\left[\\begin{matrix}0\\\\C \\dot{\\theta_2}\\\\- B \\dot{\\theta_1} - C \\dot{\\theta_1} \\cos{\\left(\\theta_{2} \\right)}\\end{matrix}\\right]$$"
   ]
  },
  {
   "cell_type": "markdown",
   "id": "9e912874-2a14-4de3-8b6d-49dc256e70f8",
   "metadata": {},
   "source": [
    "$$^2\\mathbf{J} = \\; \\left[\\begin{matrix}0 & C\\\\- B - C \\cos{\\left(\\theta_{2} \\right)} & 0\\end{matrix}\\right]$$"
   ]
  },
  {
   "cell_type": "markdown",
   "id": "5803b92a-4b6f-4380-9dd2-ae19b8975f56",
   "metadata": {},
   "source": [
    "$$\\|^2\\mathbf{J}\\| = \\; C \\left(B + C \\cos{\\left(\\theta_{2} \\right)}\\right)$$"
   ]
  },
  {
   "cell_type": "markdown",
   "id": "66c0d255-9c73-4065-a7bf-305fb9441db7",
   "metadata": {},
   "source": [
    "**Note:**\n",
    "\n",
    "Since we only have 2 DOF (2 joints), drop $^2v_{tipx}$ when we create the Jacobian."
   ]
  },
  {
   "cell_type": "code",
   "execution_count": 25,
   "id": "aa42c77d-e796-4983-ba21-40f92554c129",
   "metadata": {},
   "outputs": [],
   "source": [
    "A,B,C = sympy.symbols(['A','B','C'])"
   ]
  },
  {
   "cell_type": "code",
   "execution_count": 26,
   "id": "05681406-697c-4791-b874-b42417ddfe00",
   "metadata": {},
   "outputs": [],
   "source": [
    "#your code here"
   ]
  },
  {
   "cell_type": "code",
   "execution_count": null,
   "id": "5aec739a-cfcf-4291-bded-85742b2cbfe7",
   "metadata": {},
   "outputs": [],
   "source": []
  },
  {
   "cell_type": "code",
   "execution_count": null,
   "id": "4784dca8-4382-480e-8da7-9acce64f100a",
   "metadata": {},
   "outputs": [],
   "source": []
  },
  {
   "cell_type": "markdown",
   "id": "400c4065-2128-4396-9753-b0be5cc3fd28",
   "metadata": {},
   "source": [
    "### Sympy \"gotcha\" reminder"
   ]
  },
  {
   "cell_type": "code",
   "execution_count": 30,
   "id": "8057f136-712c-4264-b032-b5b526611942",
   "metadata": {},
   "outputs": [
    {
     "data": {
      "image/png": "[encoded data removed]",
      "text/latex": [
       "$\\displaystyle \\left[\\begin{matrix}\\cos{\\left(\\theta_{2} \\right)} & - \\sin{\\left(\\theta_{2} \\right)} & 0 & B\\\\\\sin{\\left(\\theta_{2} \\right)} \\cos{\\left(90 \\right)} & \\cos{\\left(90 \\right)} \\cos{\\left(\\theta_{2} \\right)} & - \\sin{\\left(90 \\right)} & 0\\\\\\sin{\\left(90 \\right)} \\sin{\\left(\\theta_{2} \\right)} & \\sin{\\left(90 \\right)} \\cos{\\left(\\theta_{2} \\right)} & \\cos{\\left(90 \\right)} & 0\\\\0 & 0 & 0 & 1\\end{matrix}\\right]$"
      ],
      "text/plain": [
       "⎡    cos(θ₂)         -sin(θ₂)         0      B⎤\n",
       "⎢                                             ⎥\n",
       "⎢sin(θ₂)⋅cos(90)  cos(90)⋅cos(θ₂)  -sin(90)  0⎥\n",
       "⎢                                             ⎥\n",
       "⎢sin(90)⋅sin(θ₂)  sin(90)⋅cos(θ₂)  cos(90)   0⎥\n",
       "⎢                                             ⎥\n",
       "⎣       0                0            0      1⎦"
      ]
     },
     "execution_count": 30,
     "metadata": {},
     "output_type": "execute_result"
    }
   ],
   "source": [
    "T12 = robotics_sympy.DH(90,B,th2,0)\n",
    "T12"
   ]
  },
  {
   "cell_type": "markdown",
   "id": "ad469217-b446-40e0-a436-2ba4f0ce7f10",
   "metadata": {},
   "source": [
    "- what's wrong with the above result?"
   ]
  },
  {
   "cell_type": "code",
   "execution_count": 31,
   "id": "3affb82f-df27-482a-9507-23bca64c33bd",
   "metadata": {},
   "outputs": [],
   "source": [
    "p90 = sympy.pi/2"
   ]
  },
  {
   "cell_type": "code",
   "execution_count": 32,
   "id": "ef927421-f016-47d3-96ed-20dc577d2823",
   "metadata": {},
   "outputs": [],
   "source": [
    "#your code here"
   ]
  },
  {
   "cell_type": "markdown",
   "id": "f09cf84d-e8e6-4fd4-9edb-32c93c207f13",
   "metadata": {},
   "source": [
    "### Comprehension Questions"
   ]
  },
  {
   "cell_type": "markdown",
   "id": "f81511a1-4ab9-4d61-9a69-408d816d587f",
   "metadata": {},
   "source": [
    "- what does the zero mean in `v_tip2f2[0]`?\n",
    "    - does it make sense?"
   ]
  },
  {
   "cell_type": "markdown",
   "id": "b5298c9c-7556-4448-9b9e-93324ffde29a",
   "metadata": {},
   "source": [
    "### Next step\n",
    "\n",
    "- Could we find the Jacobian for this robot?\n",
    "    - how would that work? "
   ]
  },
  {
   "cell_type": "code",
   "execution_count": 40,
   "id": "ecab12f9-0f92-4f0d-903f-8e2653476b73",
   "metadata": {},
   "outputs": [],
   "source": [
    "def J_row(v, theta_dots):\n",
    "    row_list = []\n",
    "    for theta_dot in theta_dots:\n",
    "        #print(\"theta_dot = %s\" % theta_dot)\n",
    "        item = v.diff(theta_dot)\n",
    "        row_list.append(item)\n",
    "    return row_list"
   ]
  },
  {
   "cell_type": "code",
   "execution_count": 41,
   "id": "a8a9e057-17c1-4145-b73c-d8431f36b391",
   "metadata": {},
   "outputs": [],
   "source": [
    "def find_J(vtip, theta_dots):\n",
    "    J_list = []\n",
    "    for v in vtip:\n",
    "        cur_row = J_row(v,theta_dots)#<-- find the row of the Jacobian for vtip[0], vtip[1], ...\n",
    "        J_list.append(cur_row)\n",
    "    return sympy.Matrix(J_list)"
   ]
  },
  {
   "cell_type": "code",
   "execution_count": 42,
   "id": "3316f938-e847-4508-be02-e92ef0d15238",
   "metadata": {},
   "outputs": [],
   "source": [
    "def create_theta_dot_vect(thdot):\n",
    "    return sympy.Matrix([[0],[0],[thdot]])"
   ]
  },
  {
   "cell_type": "code",
   "execution_count": 43,
   "id": "ace84eb0-5c3b-4b1a-9911-238a13225e18",
   "metadata": {},
   "outputs": [],
   "source": [
    "#your code here"
   ]
  },
  {
   "cell_type": "markdown",
   "id": "714b2b0e-29df-4589-8f8e-567de83ae857",
   "metadata": {},
   "source": [
    "### Comprehension Question\n",
    "\n",
    "- what is the singularity condition?\n",
    "- what is the physical meaning of the singularity condition?"
   ]
  },
  {
   "cell_type": "markdown",
   "id": "bdfeff1f-ca95-4897-851d-5e4bdb1b3473",
   "metadata": {},
   "source": [
    "## Problem 2: Simplified Three Link 3D"
   ]
  },
  {
   "cell_type": "markdown",
   "id": "d44fad93-560b-42b3-90c1-8fc08ccd7673",
   "metadata": {},
   "source": [
    "\n",
    "<img src=\"https://faculty.gvsu.edu/kraussry/445_images/learning_activities/jacobians/three_link_simplified.png\" width=500px>\n"
   ]
  },
  {
   "cell_type": "markdown",
   "id": "cd5b39d3-112d-4f56-91d7-1a7f3b8c0403",
   "metadata": {},
   "source": [
    "### Problem Statement\n",
    "\n",
    "- Find $\\bar{v}_{tip}$\n",
    "- Find the Jacobian\n",
    "- Find the singularity conditions"
   ]
  },
  {
   "cell_type": "markdown",
   "id": "811bee85-6d6a-4357-835c-de7b3f328639",
   "metadata": {},
   "source": [
    "### Intro Comprehension Question\n",
    "\n",
    "- what is $v_2$?\n",
    "    - do you see it intuitively?\n",
    "    - can we verify it mathematically?"
   ]
  },
  {
   "cell_type": "code",
   "execution_count": 50,
   "id": "278e9f34-c68a-4047-a3d0-d663ec99c4c4",
   "metadata": {},
   "outputs": [
    {
     "data": {
      "image/png": "[encoded data removed]",
      "text/latex": [
       "$\\displaystyle \\theta_{3}$"
      ],
      "text/plain": [
       "θ₃"
      ]
     },
     "execution_count": 50,
     "metadata": {},
     "output_type": "execute_result"
    }
   ],
   "source": [
    "th3, th3dot = sympy.symbols(['theta_3','\\\\dot{\\\\theta_3}'])\n",
    "th3"
   ]
  },
  {
   "cell_type": "code",
   "execution_count": 51,
   "id": "3fdf4031-b55d-449d-a84a-1061ad9b4e18",
   "metadata": {},
   "outputs": [
    {
     "data": {
      "image/png": "[encoded data removed]",
      "text/latex": [
       "$\\displaystyle \\dot{\\theta_3}$"
      ],
      "text/plain": [
       "\\dot{\\theta_3}"
      ]
     },
     "execution_count": 51,
     "metadata": {},
     "output_type": "execute_result"
    }
   ],
   "source": [
    "th3dot"
   ]
  },
  {
   "cell_type": "code",
   "execution_count": 52,
   "id": "39b2dab5-835f-4e39-9f70-9e5607391924",
   "metadata": {},
   "outputs": [],
   "source": [
    "#your code here"
   ]
  },
  {
   "cell_type": "markdown",
   "id": "0cfc27eb-f4d3-445b-a02c-38d679f9b1b3",
   "metadata": {},
   "source": [
    "## Answers\n",
    "\n",
    "$$^3v_{tip} = \\; \\left[\\begin{matrix}B \\dot{\\theta_2} \\sin{\\left(\\theta_{3} \\right)}\\\\B \\dot{\\theta_2} \\cos{\\left(\\theta_{3} \\right)} + C \\left(\\dot{\\theta_2} + \\dot{\\theta_3}\\right)\\\\- B \\dot{\\theta_1} \\cos{\\left(\\theta_{2} \\right)} - C \\left(- \\dot{\\theta_1} \\sin{\\left(\\theta_{2} \\right)} \\sin{\\left(\\theta_{3} \\right)} + \\dot{\\theta_1} \\cos{\\left(\\theta_{2} \\right)} \\cos{\\left(\\theta_{3} \\right)}\\right)\\end{matrix}\\right]$$"
   ]
  },
  {
   "cell_type": "markdown",
   "id": "70e2d7d7-93ba-489d-ba2a-92424d240418",
   "metadata": {},
   "source": [
    "$$^3\\mathbf{J} = \\; \\left[\\begin{matrix}0 & B \\sin{\\left(\\theta_{3} \\right)} & 0\\\\0 & B \\cos{\\left(\\theta_{3} \\right)} + C & C\\\\- B \\cos{\\left(\\theta_{2} \\right)} - C \\left(- \\sin{\\left(\\theta_{2} \\right)} \\sin{\\left(\\theta_{3} \\right)} + \\cos{\\left(\\theta_{2} \\right)} \\cos{\\left(\\theta_{3} \\right)}\\right) & 0 & 0\\end{matrix}\\right]$$"
   ]
  },
  {
   "cell_type": "markdown",
   "id": "4aba6b9e-0479-4118-9f21-976728a32cce",
   "metadata": {},
   "source": [
    "$$\\|^3\\mathbf{J}\\| = \\; - B C \\left(B \\cos{\\left(\\theta_{2} \\right)} + C \\cos{\\left(\\theta_{2} + \\theta_{3} \\right)}\\right) \\sin{\\left(\\theta_{3} \\right)}\n",
    "$$"
   ]
  },
  {
   "cell_type": "markdown",
   "id": "36ebba61-1e2c-40a6-b3e6-5b4280093396",
   "metadata": {},
   "source": [
    "### Comprehension Questions\n",
    "\n",
    "- does this Jacobian make sense?\n",
    "    - what are all the singularity conditions?\n",
    "    - what is the physical significance of each singularity condition?"
   ]
  }
 ],
 "metadata": {
  "kernelspec": {
   "display_name": "Python 3 (ipykernel)",
   "language": "python",
   "name": "python3"
  },
  "language_info": {
   "codemirror_mode": {
    "name": "ipython",
    "version": 3
   },
   "file_extension": ".py",
   "mimetype": "text/x-python",
   "name": "python",
   "nbconvert_exporter": "python",
   "pygments_lexer": "ipython3",
   "version": "3.12.3"
  }
 },
 "nbformat": 4,
 "nbformat_minor": 5
}
