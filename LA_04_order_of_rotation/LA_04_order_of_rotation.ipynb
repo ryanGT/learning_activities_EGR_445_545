{
 "cells": [
  {
   "cell_type": "markdown",
   "id": "creative-quebec",
   "metadata": {},
   "source": [
    "# Learning Activity 3: Order of Rotations"
   ]
  },
  {
   "cell_type": "code",
   "execution_count": 1,
   "id": "encouraging-vocabulary",
   "metadata": {},
   "outputs": [],
   "source": [
    "%matplotlib inline\n",
    "import matplotlib.pyplot as plt\n",
    "import numpy as np\n",
    "from numpy import sin, cos, tan, pi\n",
    "import robotics\n",
    "from robotics import Rx, Ry, Rz, sind, cosd, DH, prettymat\n",
    "rtd = 180/pi\n",
    "dtr = pi/180"
   ]
  },
  {
   "cell_type": "markdown",
   "id": "correct-observer",
   "metadata": {},
   "source": [
    "## Order 1: First $Z$, then $X$"
   ]
  },
  {
   "cell_type": "markdown",
   "id": "aboriginal-passenger",
   "metadata": {},
   "source": [
    "- Frames 0 and 1 are intially coincident\n",
    "- frame 1 is rotated by $90^\\circ$ about $\\hat{Z}_0$\n",
    "    - $\\hat{Z}_0$ and $\\hat{Z}_1$ are the same\n",
    "- define frame 2 that is now coincident with the position of frame 1 after the first rotation\n",
    "- rotate frame 2 by $90^\\circ$ about $\\hat{X}_1$\n",
    "    - $\\hat{X}_1$ and $\\hat{X}_2$ are the same, but they are different from $\\hat{X}_0$\n",
    "- sketch the axes in relation to one another\n",
    "- find $^0_2\\mathbf{R}$ and verfiy that it agrees with your sketch\n",
    "- using dot products:\n",
    "\n",
    "$$^0_2\\mathbf{R} = \\left[^0\\hat{X}_2 \\; ^0\\hat{Y}_2 \\; ^0\\hat{Z}_2 \\right]$$\n",
    "\n"
   ]
  },
  {
   "cell_type": "markdown",
   "id": "continent-richards",
   "metadata": {},
   "source": [
    "## Order 2: First $X$, then $Z$"
   ]
  },
  {
   "cell_type": "markdown",
   "id": "sustained-milwaukee",
   "metadata": {},
   "source": [
    "- Frames 0 and 1 are intially coincident\n",
    "- frame 1 is rotated by $90^\\circ$ about $\\hat{X}_0$\n",
    "    - $\\hat{X}_0$ and $\\hat{X}_1$ are the same\n",
    "- define frame 2 that is now coincident with the position of frame 1 after the first rotation\n",
    "- rotate frame 2 by $90^\\circ$ about $\\hat{Z}_1$\n",
    "    - $\\hat{Z}_1$ and $\\hat{Z}_2$ are the same, but they are different from $\\hat{Z}_0$\n",
    "- sketch the axes in relation to one another\n",
    "- find $^0_2\\mathbf{R}$ and verfiy that it agrees with your sketch\n",
    "\n"
   ]
  },
  {
   "cell_type": "code",
   "execution_count": null,
   "id": "marked-ghana",
   "metadata": {},
   "outputs": [],
   "source": []
  },
  {
   "cell_type": "markdown",
   "id": "allied-onion",
   "metadata": {},
   "source": [
    "## Comparison and Conclussions\n",
    "\n",
    "- how do $^0_2\\mathbf{R}$ compare for Order 1 and Order 2 above?\n",
    "    - how do the sketches compare?\n",
    "- does order of multiplication matter when it comes to rotation matrices?\n",
    "    - is matrix multiplication commutative?"
   ]
  },
  {
   "cell_type": "code",
   "execution_count": null,
   "id": "desperate-greene",
   "metadata": {},
   "outputs": [],
   "source": []
  }
 ],
 "metadata": {
  "kernelspec": {
   "display_name": "Python 3 (ipykernel)",
   "language": "python",
   "name": "python3"
  },
  "language_info": {
   "codemirror_mode": {
    "name": "ipython",
    "version": 3
   },
   "file_extension": ".py",
   "mimetype": "text/x-python",
   "name": "python",
   "nbconvert_exporter": "python",
   "pygments_lexer": "ipython3",
   "version": "3.13.3"
  }
 },
 "nbformat": 4,
 "nbformat_minor": 5
}
