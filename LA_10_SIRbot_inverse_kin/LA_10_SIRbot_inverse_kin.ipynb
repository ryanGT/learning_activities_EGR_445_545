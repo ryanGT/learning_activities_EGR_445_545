{
 "cells": [
  {
   "cell_type": "markdown",
   "id": "fadc4bd6-1fde-478e-9e7e-239e5449d537",
   "metadata": {},
   "source": [
    "# LA 10 - Inverse Kinematics for a Simplified Industrial Robot"
   ]
  },
  {
   "cell_type": "code",
   "execution_count": 1,
   "id": "a8fdb2f6-8645-49b0-95fb-f80abcc280e7",
   "metadata": {},
   "outputs": [],
   "source": [
    "%matplotlib inline\n",
    "import matplotlib.pyplot as plt\n",
    "import numpy as np\n",
    "from numpy import sin, cos, tan, pi\n",
    "import robotics\n",
    "from robotics import Rx, Ry, Rz, sind, cosd, DH\n",
    "rtd = 180/pi\n",
    "dtr = pi/180"
   ]
  },
  {
   "cell_type": "markdown",
   "id": "d6009b37-fd25-4ad3-8e85-47a2e3c1b71a",
   "metadata": {},
   "source": [
    "## Schemiatic for a Simplified Industrial Robot (SIR-bot)"
   ]
  },
  {
   "cell_type": "markdown",
   "id": "67059259-758f-4f3c-be3f-af790fa7b0bf",
   "metadata": {},
   "source": [
    "\n",
    "<img src=\"https://faculty.gvsu.edu/kraussry/445_images/learning_activities/inverse_kin_sketches/simplified_industrial_robot.png\" width=500px>\n"
   ]
  },
  {
   "cell_type": "markdown",
   "id": "efda26c5-e5b6-47a8-ab0a-a8c9df03a064",
   "metadata": {},
   "source": [
    "## Given"
   ]
  },
  {
   "cell_type": "code",
   "execution_count": 4,
   "id": "00766dfc-aa07-493b-a1e9-125e66ea14bf",
   "metadata": {},
   "outputs": [
    {
     "data": {
      "text/plain": [
       "array([[ 0.03711078,  0.16963632,  0.98480775, 19.13931916],\n",
       "       [-0.21046567, -0.96205536,  0.17364818,  3.37477836],\n",
       "       [ 0.97689661, -0.21371244,  0.        , 15.99040766],\n",
       "       [ 0.        ,  0.        ,  0.        ,  1.        ]])"
      ]
     },
     "execution_count": 4,
     "metadata": {},
     "output_type": "execute_result"
    }
   ],
   "source": [
    "T0tip = np.array([[ 0.03711078,  0.16963632,  0.98480775, 19.13931916],\n",
    "       [-0.21046567, -0.96205536,  0.17364818,  3.37477836],\n",
    "       [ 0.97689661, -0.21371244,  0.        , 15.99040766],\n",
    "       [ 0.        ,  0.        ,  0.        ,  1.        ]])\n",
    "T0tip"
   ]
  },
  {
   "cell_type": "markdown",
   "id": "e4dc7965-52af-4c44-a8d9-951128fae62a",
   "metadata": {},
   "source": [
    "### Parameters"
   ]
  },
  {
   "cell_type": "code",
   "execution_count": 12,
   "id": "8a523a43-476f-43b0-bb39-febab05ea0db",
   "metadata": {},
   "outputs": [],
   "source": [
    "A = 9\n",
    "B = 7\n",
    "C = 6\n",
    "D = 5\n",
    "E = 4"
   ]
  },
  {
   "cell_type": "markdown",
   "id": "2466b2a5-5a92-442c-b4de-28741b586ff0",
   "metadata": {},
   "source": [
    "## Step 1: $^0P_{wrist}$\n",
    "\n",
    "Use matric math to find the wrist location in frame 0.\n",
    "\n",
    "So that you can check your answer, the answer is:\n",
    "\n",
    "$$^0P_{wrist} \\textrm{:}$$\n",
    "\n"
   ]
  },
  {
   "cell_type": "code",
   "execution_count": 45,
   "id": "fb2ce40f-ad1b-4a88-9e00-592ace062c27",
   "metadata": {},
   "outputs": [
    {
     "data": {
      "text/plain": [
       "array([10.27604938,  1.81194476, 15.99040766])"
      ]
     },
     "execution_count": 45,
     "metadata": {},
     "output_type": "execute_result"
    }
   ],
   "source": [
    "P_wrist_0_check = np.array([10.27604938,  1.81194476, 15.99040766])\n",
    "P_wrist_0_check"
   ]
  },
  {
   "cell_type": "code",
   "execution_count": null,
   "id": "6e513e42-a5c6-4dd6-9b94-0206a44569e1",
   "metadata": {},
   "outputs": [],
   "source": []
  },
  {
   "cell_type": "markdown",
   "id": "f29091b9-ba4e-4190-b87f-e94e9463133d",
   "metadata": {},
   "source": [
    "## Step 2: Find $\\theta_1$ and $^1P_{wrist}$\n",
    "\n",
    "Next, find $\\theta_1$ based on a top view.  Once you know $\\theta_1$, find the wrist location in frame 1 so that you could draw a side view and solve the two link inverse kinematics problem to find $\\theta_2$ and $\\theta_3$.\n",
    "\n",
    "So that you can check your answer, $^1P_{wrist}$:"
   ]
  },
  {
   "cell_type": "code",
   "execution_count": 46,
   "id": "240b7699-5a76-4ce9-8f38-b15fe1263c2b",
   "metadata": {},
   "outputs": [
    {
     "data": {
      "text/plain": [
       "array([10.434574  ,  0.        ,  6.99040766])"
      ]
     },
     "execution_count": 46,
     "metadata": {},
     "output_type": "execute_result"
    }
   ],
   "source": [
    "P_wrist_1_check = np.array([10.434574  ,  0.        ,  6.99040766])\n",
    "P_wrist_1_check"
   ]
  },
  {
   "cell_type": "markdown",
   "id": "1b55038b-5868-4d2b-92d6-05247fcfdf68",
   "metadata": {},
   "source": [
    "## Step 3: Find $\\theta_2$ and $\\theta_3$ from a side view in frame 1"
   ]
  },
  {
   "cell_type": "code",
   "execution_count": null,
   "id": "6da74f10-932c-4840-bc1a-d3cfe6d559e2",
   "metadata": {},
   "outputs": [],
   "source": []
  },
  {
   "cell_type": "markdown",
   "id": "d3008609-7fa9-4d8a-8288-8e2c499fd89f",
   "metadata": {},
   "source": [
    "## Step 3: Find $^0_{W}\\mathbf{T}$"
   ]
  },
  {
   "cell_type": "markdown",
   "id": "ab00e36d-c339-43ca-a04e-48601122e4ad",
   "metadata": {},
   "source": [
    "Based on $\\theta_1$, $\\theta_2$, and $\\theta_3$, find $^0_{wrist}\\mathbf{T}$:\n",
    "\n",
    "$$^0_{W}\\mathbf{T} = \\; ^0_1\\mathbf{T} \\cdot  ^1_2\\mathbf{T} \\cdot ^2_3\\mathbf{T} \\cdot ^3_W\\mathbf{T}$$"
   ]
  },
  {
   "cell_type": "code",
   "execution_count": null,
   "id": "c82d8270-ba4e-4391-9408-07a045aeda29",
   "metadata": {},
   "outputs": [],
   "source": []
  },
  {
   "cell_type": "markdown",
   "id": "c087cdaf-274b-4c34-aca5-0820d8da5cdd",
   "metadata": {},
   "source": [
    "## Step 4: Find $^W_{tip}\\mathbf{T}_{numeric}$"
   ]
  },
  {
   "cell_type": "markdown",
   "id": "9e595cd8-b95e-43b3-a709-40be1193d273",
   "metadata": {},
   "source": [
    "$$^0_{tip}\\mathbf{T} = \\; ^0_W \\mathbf{T} \\cdot ^W_{tip}\\mathbf{T}$$"
   ]
  },
  {
   "cell_type": "code",
   "execution_count": null,
   "id": "759f1878-69c3-404c-b14a-42ae6119c9ae",
   "metadata": {},
   "outputs": [],
   "source": []
  },
  {
   "cell_type": "code",
   "execution_count": null,
   "id": "f89d3aed-cc3f-4772-9d79-289103ed9246",
   "metadata": {},
   "outputs": [],
   "source": []
  },
  {
   "cell_type": "markdown",
   "id": "2c21a9a8-a65d-40c7-af3d-fce602be3b00",
   "metadata": {},
   "source": [
    "## Step 5: Find $^W_{tip}\\mathbf{T}_{symbolic}$"
   ]
  },
  {
   "cell_type": "markdown",
   "id": "91b448e7-51d4-46e8-8696-82059ab964e0",
   "metadata": {},
   "source": [
    "Use symbolic forward kinematics to find $^W_{tip}\\mathbf{T}_{symbolic}$"
   ]
  },
  {
   "cell_type": "code",
   "execution_count": null,
   "id": "6e7b2fd7-7423-4bf7-9124-e9d11ead27cf",
   "metadata": {},
   "outputs": [],
   "source": []
  },
  {
   "cell_type": "markdown",
   "id": "57cbd588-c385-4d8c-b4da-8d974746fed3",
   "metadata": {},
   "source": [
    "## Step 6: Solve for $\\theta_4$ and $\\theta_5$"
   ]
  },
  {
   "cell_type": "markdown",
   "id": "8da1dfad-add4-47e1-99c7-9678dbf69d77",
   "metadata": {},
   "source": [
    "Setting\n",
    "\n",
    "$$^W_{tip}\\mathbf{T}_{numeric} = \\; ^W_{tip}\\mathbf{T}_{symbolic}$$\n",
    "\n",
    "gives you 12 equations to work with.  Choose a subset of those equations that allow you \n",
    "to solve for $\\theta_4$ and $\\theta_5$."
   ]
  },
  {
   "cell_type": "code",
   "execution_count": null,
   "id": "850376c7-a519-42e3-a16f-94681720516c",
   "metadata": {},
   "outputs": [],
   "source": []
  },
  {
   "cell_type": "code",
   "execution_count": null,
   "id": "809a5af9-2c39-4713-92f9-82666b460d5b",
   "metadata": {},
   "outputs": [],
   "source": []
  },
  {
   "cell_type": "markdown",
   "id": "ad1079de-c5de-4aff-a5ae-f7c159d72272",
   "metadata": {},
   "source": [
    "## Step 7: Final Verification"
   ]
  },
  {
   "cell_type": "markdown",
   "id": "21052425-67a3-4bb2-bc6a-6303afc99e1f",
   "metadata": {},
   "source": [
    "Now that you have answers for all of the joint angles, use a DH table and forward kinematics to find $^0_{tip}\\mathbf{T}$ and verify that it matches the one given in the problem statement."
   ]
  },
  {
   "cell_type": "code",
   "execution_count": null,
   "id": "ccb56ba9-8cf9-473c-92a9-b3d422c24993",
   "metadata": {},
   "outputs": [],
   "source": []
  }
 ],
 "metadata": {
  "kernelspec": {
   "display_name": "Python 3 (ipykernel)",
   "language": "python",
   "name": "python3"
  },
  "language_info": {
   "codemirror_mode": {
    "name": "ipython",
    "version": 3
   },
   "file_extension": ".py",
   "mimetype": "text/x-python",
   "name": "python",
   "nbconvert_exporter": "python",
   "pygments_lexer": "ipython3",
   "version": "3.13.3"
  }
 },
 "nbformat": 4,
 "nbformat_minor": 5
}
