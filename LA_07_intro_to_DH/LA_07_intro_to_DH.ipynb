{
 "cells": [
  {
   "cell_type": "markdown",
   "metadata": {},
   "source": [
    "# Learning Activity 7: Intro to DH"
   ]
  },
  {
   "cell_type": "code",
   "execution_count": 1,
   "metadata": {},
   "outputs": [],
   "source": [
    "%matplotlib inline\n",
    "import matplotlib.pyplot as plt\n",
    "import numpy as np\n",
    "from numpy import sin, cos, tan, pi\n",
    "import robotics\n",
    "from robotics import Rx, Ry, Rz, sind, cosd, DH\n",
    "rtd = 180/pi\n",
    "dtr = pi/180"
   ]
  },
  {
   "cell_type": "code",
   "execution_count": 3,
   "metadata": {},
   "outputs": [],
   "source": [
    "def myarraytest(in1, in2):\n",
    "    mydiff = np.array(in1) - np.array(in2)\n",
    "    mymax = np.max(np.abs(mydiff))\n",
    "    return mymax < 1e-6"
   ]
  },
  {
   "cell_type": "markdown",
   "metadata": {},
   "source": [
    "## Problem 1"
   ]
  },
  {
   "cell_type": "markdown",
   "metadata": {},
   "source": [
    "- Attach the frames necessary to model the robot below using the DH convention\n",
    "- fill out a table of the DH parameters\n",
    "- find $^0P_{tip}$ given the values:\n",
    "    - $L_1$ = 9 cm\n",
    "    - $L_2$ = 8 cm\n",
    "    - $L_3$ = 7 cm\n",
    "    - $\\theta_1$ = 20$^\\circ$\n",
    "    - $\\theta_2$ = -40$^\\circ$\n",
    "    - $\\theta_3$ = 15$^\\circ$\n",
    " \n",
    "\n",
    "<img src=\"https://faculty.gvsu.edu/kraussry/445_images/learning_activities/dh/dh1_3_link_planar.png\" width=400px>"
   ]
  },
  {
   "cell_type": "code",
   "execution_count": 7,
   "metadata": {},
   "outputs": [],
   "source": [
    "L1 = 9\n",
    "L2 = 8\n",
    "L3 = 7\n",
    "th1 = 20\n",
    "th2 = -40\n",
    "th3 = 15"
   ]
  },
  {
   "cell_type": "markdown",
   "metadata": {},
   "source": [
    "**Note:** Use the variable `P_tip_0_1` for your final answer."
   ]
  },
  {
   "cell_type": "markdown",
   "metadata": {},
   "source": [
    "### Test"
   ]
  },
  {
   "cell_type": "code",
   "execution_count": 1,
   "metadata": {
    "nbgrader": {
     "grade": true,
     "grade_id": "cell-4405c836394f024a",
     "locked": true,
     "points": 10,
     "schema_version": 3,
     "solution": false,
     "task": false
    }
   },
   "outputs": [
    {
     "ename": "NameError",
     "evalue": "name 'L1' is not defined",
     "output_type": "error",
     "traceback": [
      "\u001b[0;31m---------------------------------------------------------------------------\u001b[0m",
      "\u001b[0;31mNameError\u001b[0m                                 Traceback (most recent call last)",
      "\u001b[0;32m<ipython-input-1-be4995314626>\u001b[0m in \u001b[0;36m<module>\u001b[0;34m\u001b[0m\n\u001b[0;32m----> 1\u001b[0;31m \u001b[0mx_check\u001b[0m \u001b[0;34m=\u001b[0m \u001b[0mL1\u001b[0m\u001b[0;34m*\u001b[0m\u001b[0mcosd\u001b[0m\u001b[0;34m(\u001b[0m\u001b[0mth1\u001b[0m\u001b[0;34m)\u001b[0m\u001b[0;34m+\u001b[0m\u001b[0mL2\u001b[0m\u001b[0;34m*\u001b[0m\u001b[0mcosd\u001b[0m\u001b[0;34m(\u001b[0m\u001b[0mth1\u001b[0m\u001b[0;34m+\u001b[0m\u001b[0mth2\u001b[0m\u001b[0;34m)\u001b[0m\u001b[0;34m+\u001b[0m\u001b[0mL3\u001b[0m\u001b[0;34m*\u001b[0m\u001b[0mcosd\u001b[0m\u001b[0;34m(\u001b[0m\u001b[0mth1\u001b[0m\u001b[0;34m+\u001b[0m\u001b[0mth2\u001b[0m\u001b[0;34m+\u001b[0m\u001b[0mth3\u001b[0m\u001b[0;34m)\u001b[0m\u001b[0;34m\u001b[0m\u001b[0;34m\u001b[0m\u001b[0m\n\u001b[0m\u001b[1;32m      2\u001b[0m \u001b[0my_check\u001b[0m \u001b[0;34m=\u001b[0m \u001b[0mL1\u001b[0m\u001b[0;34m*\u001b[0m\u001b[0msind\u001b[0m\u001b[0;34m(\u001b[0m\u001b[0mth1\u001b[0m\u001b[0;34m)\u001b[0m\u001b[0;34m+\u001b[0m\u001b[0mL2\u001b[0m\u001b[0;34m*\u001b[0m\u001b[0msind\u001b[0m\u001b[0;34m(\u001b[0m\u001b[0mth1\u001b[0m\u001b[0;34m+\u001b[0m\u001b[0mth2\u001b[0m\u001b[0;34m)\u001b[0m\u001b[0;34m+\u001b[0m\u001b[0mL3\u001b[0m\u001b[0;34m*\u001b[0m\u001b[0msind\u001b[0m\u001b[0;34m(\u001b[0m\u001b[0mth1\u001b[0m\u001b[0;34m+\u001b[0m\u001b[0mth2\u001b[0m\u001b[0;34m+\u001b[0m\u001b[0mth3\u001b[0m\u001b[0;34m)\u001b[0m\u001b[0;34m\u001b[0m\u001b[0;34m\u001b[0m\u001b[0m\n\u001b[1;32m      3\u001b[0m \u001b[0mP_tip_test_1\u001b[0m \u001b[0;34m=\u001b[0m \u001b[0mnp\u001b[0m\u001b[0;34m.\u001b[0m\u001b[0marray\u001b[0m\u001b[0;34m(\u001b[0m\u001b[0;34m[\u001b[0m\u001b[0mx_check\u001b[0m\u001b[0;34m,\u001b[0m\u001b[0my_check\u001b[0m\u001b[0;34m,\u001b[0m\u001b[0;36m0\u001b[0m\u001b[0;34m,\u001b[0m\u001b[0;36m1\u001b[0m\u001b[0;34m]\u001b[0m\u001b[0;34m)\u001b[0m\u001b[0;34m\u001b[0m\u001b[0;34m\u001b[0m\u001b[0m\n\u001b[1;32m      4\u001b[0m \u001b[0;32massert\u001b[0m \u001b[0mmyarraytest\u001b[0m\u001b[0;34m(\u001b[0m\u001b[0mP_tip_0_1\u001b[0m\u001b[0;34m,\u001b[0m\u001b[0mP_tip_test_1\u001b[0m\u001b[0;34m)\u001b[0m\u001b[0;34m\u001b[0m\u001b[0;34m\u001b[0m\u001b[0m\n",
      "\u001b[0;31mNameError\u001b[0m: name 'L1' is not defined"
     ]
    }
   ],
   "source": [
    "x_check = L1*cosd(th1)+L2*cosd(th1+th2)+L3*cosd(th1+th2+th3)\n",
    "y_check = L1*sind(th1)+L2*sind(th1+th2)+L3*sind(th1+th2+th3)\n",
    "P_tip_test_1 = np.array([x_check,y_check,0,1])\n",
    "assert myarraytest(P_tip_0_1,P_tip_test_1)"
   ]
  },
  {
   "cell_type": "markdown",
   "metadata": {},
   "source": [
    "## Problem 2"
   ]
  },
  {
   "cell_type": "markdown",
   "metadata": {},
   "source": [
    "- Attach the frames necessary to model the robot below using the DH convention\n",
    "- fill out a table of the DH parameters\n",
    "- find $^0P_{tip}$ given the values:\n",
    "    - $A$ = 10 cm\n",
    "    - $B$ = 8 cm\n",
    "    - $C$ = 6 cm\n",
    "    - $\\theta_1$ = 30$^\\circ$\n",
    "    - $\\theta_2$ = 20$^\\circ$\n",
    "    - $\\theta_3$ = -15$^\\circ$\n",
    "\n",
    "<img src=\"https://faculty.gvsu.edu/kraussry/445_images/learning_activities/dh/dh2.jpeg\" width=500px>"
   ]
  },
  {
   "cell_type": "code",
   "execution_count": 11,
   "metadata": {},
   "outputs": [],
   "source": [
    "A = 10\n",
    "B = 8\n",
    "C = 6\n",
    "th1 = 30\n",
    "th2 = 20\n",
    "th3 = -15"
   ]
  },
  {
   "cell_type": "markdown",
   "metadata": {},
   "source": [
    "### Test"
   ]
  },
  {
   "cell_type": "code",
   "execution_count": 1,
   "metadata": {
    "nbgrader": {
     "grade": true,
     "grade_id": "cell-d646f5a097131b2c",
     "locked": true,
     "points": 10,
     "schema_version": 3,
     "solution": false,
     "task": false
    }
   },
   "outputs": [
    {
     "ename": "NameError",
     "evalue": "name 'myarraytest' is not defined",
     "output_type": "error",
     "traceback": [
      "\u001b[0;31m---------------------------------------------------------------------------\u001b[0m",
      "\u001b[0;31mNameError\u001b[0m                                 Traceback (most recent call last)",
      "\u001b[0;32m<ipython-input-1-39e635918d76>\u001b[0m in \u001b[0;36m<module>\u001b[0;34m\u001b[0m\n\u001b[0;32m----> 1\u001b[0;31m \u001b[0;32massert\u001b[0m \u001b[0mmyarraytest\u001b[0m\u001b[0;34m(\u001b[0m\u001b[0mP_tip_0_3\u001b[0m\u001b[0;34m,\u001b[0m\u001b[0;34m[\u001b[0m\u001b[0;36m21.33718613\u001b[0m\u001b[0;34m,\u001b[0m \u001b[0;36m10.63401945\u001b[0m\u001b[0;34m,\u001b[0m \u001b[0;34m-\u001b[0m\u001b[0;36m0.53112796\u001b[0m\u001b[0;34m,\u001b[0m  \u001b[0;36m1.\u001b[0m        \u001b[0;34m]\u001b[0m\u001b[0;34m)\u001b[0m\u001b[0;34m\u001b[0m\u001b[0;34m\u001b[0m\u001b[0m\n\u001b[0m\u001b[1;32m      2\u001b[0m \u001b[0mprint\u001b[0m\u001b[0;34m(\u001b[0m\u001b[0;34m\"nice work\"\u001b[0m\u001b[0;34m)\u001b[0m\u001b[0;34m\u001b[0m\u001b[0;34m\u001b[0m\u001b[0m\n",
      "\u001b[0;31mNameError\u001b[0m: name 'myarraytest' is not defined"
     ]
    }
   ],
   "source": [
    "assert myarraytest(P_tip_0_3,[21.33718613, 10.63401945, -0.53112796,  1.        ])\n",
    "print(\"nice work\")"
   ]
  },
  {
   "cell_type": "code",
   "execution_count": null,
   "metadata": {},
   "outputs": [],
   "source": []
  },
  {
   "cell_type": "code",
   "execution_count": null,
   "metadata": {},
   "outputs": [],
   "source": []
  },
  {
   "cell_type": "markdown",
   "metadata": {},
   "source": [
    "## Problem 3"
   ]
  },
  {
   "cell_type": "markdown",
   "metadata": {},
   "source": [
    "- draw the schematic and fill in the DH table\n",
    "\n",
    "<img src=\"https://faculty.gvsu.edu/kraussry/445_images/learning_activities/dh/dh3.jpeg\" width=500px>\n"
   ]
  },
  {
   "cell_type": "code",
   "execution_count": null,
   "metadata": {},
   "outputs": [],
   "source": []
  }
 ],
 "metadata": {
  "celltoolbar": "Create Assignment",
  "kernelspec": {
   "display_name": "Python 3 (ipykernel)",
   "language": "python",
   "name": "python3"
  },
  "language_info": {
   "codemirror_mode": {
    "name": "ipython",
    "version": 3
   },
   "file_extension": ".py",
   "mimetype": "text/x-python",
   "name": "python",
   "nbconvert_exporter": "python",
   "pygments_lexer": "ipython3",
   "version": "3.13.3"
  }
 },
 "nbformat": 4,
 "nbformat_minor": 4
}
