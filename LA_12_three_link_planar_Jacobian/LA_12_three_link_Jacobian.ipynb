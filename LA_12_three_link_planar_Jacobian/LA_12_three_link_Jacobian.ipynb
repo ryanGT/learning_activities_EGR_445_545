{
 "cells": [
  {
   "cell_type": "markdown",
   "metadata": {},
   "source": [
    "# Three Link Jacobian"
   ]
  },
  {
   "cell_type": "markdown",
   "metadata": {},
   "source": [
    "<img src=\"https://faculty.gvsu.edu/kraussry/445_images/learning_activities/jacobians/three_link_planar.jpeg\" width=400px>"
   ]
  },
  {
   "cell_type": "markdown",
   "metadata": {},
   "source": [
    "## Problem Statement\n",
    "\n",
    "- find the singularity conditions for the three-link planar robot show above"
   ]
  },
  {
   "cell_type": "markdown",
   "metadata": {},
   "source": [
    "### Steps:"
   ]
  },
  {
   "cell_type": "markdown",
   "metadata": {},
   "source": [
    "- Find a symbolic expression for the velocity of the tip of the robot using `sympy`."
   ]
  },
  {
   "cell_type": "markdown",
   "metadata": {},
   "source": [
    "- Take partial derivatives of $\\bar{v}_{tip}$ to find the Jacobian of the robot."
   ]
  },
  {
   "cell_type": "markdown",
   "metadata": {},
   "source": [
    "- Take the determinant of your Jacobian to find the singularity conditions\n",
    "    - call your determinant `det_J`\n",
    "    - be sure to simplify your determinant:\n",
    "        - `det_J = det_J.simplify()`"
   ]
  },
  {
   "cell_type": "markdown",
   "metadata": {},
   "source": [
    "- find the Jacobian in frame 1 and simplify it\n",
    "- inspect the Jacobian in frame 1 to see when the Jacobian looses full rank\n",
    "- sketch the robot with $\\theta_2=0$ and draw the velocity components from each joint\n",
    "    - can you see what happens physically in singularity condition?"
   ]
  },
  {
   "cell_type": "markdown",
   "metadata": {},
   "source": [
    "## Comprehension Questions\n",
    "\n",
    "- the robot move entirely in the $X_0/Y_0$ plane\n",
    "    - what does that mean for the $Z$ velocity of the tip?\n",
    "- how many DOF does the robot have?\n",
    "- how do we create a square Jacobian in order to find singulariy conditions?\n",
    "   - what does wrong if we use $v_{tipx}$, $v_{tipy}$ and $v_{tipz}$ as the tip velocities in our Jacobian formulation?"
   ]
  },
  {
   "cell_type": "code",
   "execution_count": 2,
   "metadata": {},
   "outputs": [],
   "source": [
    "import sympy\n",
    "from sympy.interactive import printing\n",
    "printing.init_printing(use_latex=True)\n",
    "import robotics_sympy"
   ]
  },
  {
   "cell_type": "code",
   "execution_count": 3,
   "metadata": {},
   "outputs": [],
   "source": [
    "L1, L2, L3, th1, th2, th3 = sympy.symbols(['L_1','L_2','L_3','theta_1','theta_2','theta_3'])"
   ]
  },
  {
   "cell_type": "code",
   "execution_count": 4,
   "metadata": {},
   "outputs": [],
   "source": [
    "th1dot, th2dot, th3dot = sympy.symbols(['\\\\dot{\\\\theta_1}','\\\\dot{\\\\theta_2}','\\\\dot{\\\\theta_3}'])"
   ]
  },
  {
   "cell_type": "code",
   "execution_count": 5,
   "metadata": {},
   "outputs": [
    {
     "data": {
      "image/png": "[encoded data removed]",
      "text/latex": [
       "$\\displaystyle \\dot{\\theta_1}$"
      ],
      "text/plain": [
       "\\dot{\\theta_1}"
      ]
     },
     "execution_count": 5,
     "metadata": {},
     "output_type": "execute_result"
    }
   ],
   "source": [
    "th1dot"
   ]
  },
  {
   "cell_type": "code",
   "execution_count": 6,
   "metadata": {},
   "outputs": [
    {
     "data": {
      "image/png": "[encoded data removed]",
      "text/latex": [
       "$\\displaystyle \\dot{\\theta_2}$"
      ],
      "text/plain": [
       "\\dot{\\theta_2}"
      ]
     },
     "execution_count": 6,
     "metadata": {},
     "output_type": "execute_result"
    }
   ],
   "source": [
    "th2dot"
   ]
  },
  {
   "cell_type": "code",
   "execution_count": 7,
   "metadata": {},
   "outputs": [
    {
     "data": {
      "image/png": "[encoded data removed]",
      "text/latex": [
       "$\\displaystyle \\dot{\\theta_3}$"
      ],
      "text/plain": [
       "\\dot{\\theta_3}"
      ]
     },
     "execution_count": 7,
     "metadata": {},
     "output_type": "execute_result"
    }
   ],
   "source": [
    "th3dot"
   ]
  }
 ],
 "metadata": {
  "kernelspec": {
   "display_name": "Python 3 (ipykernel)",
   "language": "python",
   "name": "python3"
  },
  "language_info": {
   "codemirror_mode": {
    "name": "ipython",
    "version": 3
   },
   "file_extension": ".py",
   "mimetype": "text/x-python",
   "name": "python",
   "nbconvert_exporter": "python",
   "pygments_lexer": "ipython3",
   "version": "3.13.3"
  }
 },
 "nbformat": 4,
 "nbformat_minor": 4
}
